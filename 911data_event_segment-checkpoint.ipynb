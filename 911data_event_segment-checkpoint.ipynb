{
 "cells": [
  {
   "cell_type": "code",
   "execution_count": 1,
   "metadata": {},
   "outputs": [],
   "source": [
    "import numpy as np\n",
    "import pandas as pd\n",
    "import os"
   ]
  },
  {
   "cell_type": "code",
   "execution_count": 2,
   "metadata": {},
   "outputs": [],
   "source": [
    "pd_temp = pd.read_csv('./911call/chifoia_event_personnel_link/chifoia_event_personnel_link_01012017.txt',sep=\"|\",skiprows=0,header=0)"
   ]
  },
  {
   "cell_type": "code",
   "execution_count": 3,
   "metadata": {},
   "outputs": [
    {
     "data": {
      "text/html": [
       "<div>\n",
       "<style scoped>\n",
       "    .dataframe tbody tr th:only-of-type {\n",
       "        vertical-align: middle;\n",
       "    }\n",
       "\n",
       "    .dataframe tbody tr th {\n",
       "        vertical-align: top;\n",
       "    }\n",
       "\n",
       "    .dataframe thead th {\n",
       "        text-align: right;\n",
       "    }\n",
       "</style>\n",
       "<table border=\"1\" class=\"dataframe\">\n",
       "  <thead>\n",
       "    <tr style=\"text-align: right;\">\n",
       "      <th></th>\n",
       "      <th>PROMPT EVENTNUMBER</th>\n",
       "      <th>UNIT</th>\n",
       "      <th>UNAOCCCNT</th>\n",
       "      <th>PERSID</th>\n",
       "      <th>UNITLOGONDATE</th>\n",
       "      <th>UNITLOGOFFDATE</th>\n",
       "    </tr>\n",
       "  </thead>\n",
       "  <tbody>\n",
       "    <tr>\n",
       "      <th>0</th>\n",
       "      <td>1700100004</td>\n",
       "      <td>2213R</td>\n",
       "      <td>2</td>\n",
       "      <td>10766</td>\n",
       "      <td>NaN</td>\n",
       "      <td>NaN</td>\n",
       "    </tr>\n",
       "    <tr>\n",
       "      <th>1</th>\n",
       "      <td>1700100004</td>\n",
       "      <td>2213R</td>\n",
       "      <td>2</td>\n",
       "      <td>14597</td>\n",
       "      <td>NaN</td>\n",
       "      <td>NaN</td>\n",
       "    </tr>\n",
       "    <tr>\n",
       "      <th>2</th>\n",
       "      <td>1700100004</td>\n",
       "      <td>2220R</td>\n",
       "      <td>4</td>\n",
       "      <td>1569</td>\n",
       "      <td>NaN</td>\n",
       "      <td>NaN</td>\n",
       "    </tr>\n",
       "    <tr>\n",
       "      <th>3</th>\n",
       "      <td>1700100004</td>\n",
       "      <td>2221R</td>\n",
       "      <td>1</td>\n",
       "      <td>13003</td>\n",
       "      <td>NaN</td>\n",
       "      <td>NaN</td>\n",
       "    </tr>\n",
       "    <tr>\n",
       "      <th>4</th>\n",
       "      <td>1700100004</td>\n",
       "      <td>2221R</td>\n",
       "      <td>1</td>\n",
       "      <td>19615</td>\n",
       "      <td>NaN</td>\n",
       "      <td>NaN</td>\n",
       "    </tr>\n",
       "  </tbody>\n",
       "</table>\n",
       "</div>"
      ],
      "text/plain": [
       "   PROMPT EVENTNUMBER   UNIT  UNAOCCCNT  PERSID  UNITLOGONDATE  UNITLOGOFFDATE\n",
       "0          1700100004  2213R          2   10766            NaN             NaN\n",
       "1          1700100004  2213R          2   14597            NaN             NaN\n",
       "2          1700100004  2220R          4    1569            NaN             NaN\n",
       "3          1700100004  2221R          1   13003            NaN             NaN\n",
       "4          1700100004  2221R          1   19615            NaN             NaN"
      ]
     },
     "execution_count": 3,
     "metadata": {},
     "output_type": "execute_result"
    }
   ],
   "source": [
    "pd_temp.head()"
   ]
  },
  {
   "cell_type": "code",
   "execution_count": 4,
   "metadata": {},
   "outputs": [],
   "source": [
    "pd_temp.columns = ['EVENTNUMBER', 'UNIT', 'UNAOCCCNT', 'PERSID', 'UNITLOGONDATE',\n",
    "       'UNITLOGOFFDATE']"
   ]
  },
  {
   "cell_type": "code",
   "execution_count": 5,
   "metadata": {},
   "outputs": [
    {
     "data": {
      "text/html": [
       "<div>\n",
       "<style scoped>\n",
       "    .dataframe tbody tr th:only-of-type {\n",
       "        vertical-align: middle;\n",
       "    }\n",
       "\n",
       "    .dataframe tbody tr th {\n",
       "        vertical-align: top;\n",
       "    }\n",
       "\n",
       "    .dataframe thead th {\n",
       "        text-align: right;\n",
       "    }\n",
       "</style>\n",
       "<table border=\"1\" class=\"dataframe\">\n",
       "  <thead>\n",
       "    <tr style=\"text-align: right;\">\n",
       "      <th></th>\n",
       "      <th>EVENTNUMBER</th>\n",
       "      <th>UNIT</th>\n",
       "      <th>UNAOCCCNT</th>\n",
       "      <th>PERSID</th>\n",
       "      <th>UNITLOGONDATE</th>\n",
       "      <th>UNITLOGOFFDATE</th>\n",
       "    </tr>\n",
       "  </thead>\n",
       "  <tbody>\n",
       "    <tr>\n",
       "      <th>0</th>\n",
       "      <td>1700100004</td>\n",
       "      <td>2213R</td>\n",
       "      <td>2</td>\n",
       "      <td>10766</td>\n",
       "      <td>NaN</td>\n",
       "      <td>NaN</td>\n",
       "    </tr>\n",
       "    <tr>\n",
       "      <th>1</th>\n",
       "      <td>1700100004</td>\n",
       "      <td>2213R</td>\n",
       "      <td>2</td>\n",
       "      <td>14597</td>\n",
       "      <td>NaN</td>\n",
       "      <td>NaN</td>\n",
       "    </tr>\n",
       "    <tr>\n",
       "      <th>2</th>\n",
       "      <td>1700100004</td>\n",
       "      <td>2220R</td>\n",
       "      <td>4</td>\n",
       "      <td>1569</td>\n",
       "      <td>NaN</td>\n",
       "      <td>NaN</td>\n",
       "    </tr>\n",
       "    <tr>\n",
       "      <th>3</th>\n",
       "      <td>1700100004</td>\n",
       "      <td>2221R</td>\n",
       "      <td>1</td>\n",
       "      <td>13003</td>\n",
       "      <td>NaN</td>\n",
       "      <td>NaN</td>\n",
       "    </tr>\n",
       "    <tr>\n",
       "      <th>4</th>\n",
       "      <td>1700100004</td>\n",
       "      <td>2221R</td>\n",
       "      <td>1</td>\n",
       "      <td>19615</td>\n",
       "      <td>NaN</td>\n",
       "      <td>NaN</td>\n",
       "    </tr>\n",
       "  </tbody>\n",
       "</table>\n",
       "</div>"
      ],
      "text/plain": [
       "   EVENTNUMBER   UNIT  UNAOCCCNT  PERSID  UNITLOGONDATE  UNITLOGOFFDATE\n",
       "0   1700100004  2213R          2   10766            NaN             NaN\n",
       "1   1700100004  2213R          2   14597            NaN             NaN\n",
       "2   1700100004  2220R          4    1569            NaN             NaN\n",
       "3   1700100004  2221R          1   13003            NaN             NaN\n",
       "4   1700100004  2221R          1   19615            NaN             NaN"
      ]
     },
     "execution_count": 5,
     "metadata": {},
     "output_type": "execute_result"
    }
   ],
   "source": [
    "pd_temp.head()"
   ]
  },
  {
   "cell_type": "code",
   "execution_count": 6,
   "metadata": {},
   "outputs": [],
   "source": [
    "pdf = pd.DataFrame()"
   ]
  },
  {
   "cell_type": "code",
   "execution_count": 7,
   "metadata": {},
   "outputs": [
    {
     "data": {
      "text/plain": [
       "['chifoia_event_personnel_link_01012016.txt',\n",
       " 'chifoia_event_personnel_link_01012017.txt',\n",
       " 'chifoia_event_personnel_link_02012016.txt',\n",
       " 'chifoia_event_personnel_link_02012017.txt',\n",
       " 'chifoia_event_personnel_link_03012016.txt',\n",
       " 'chifoia_event_personnel_link_03012017.txt',\n",
       " 'chifoia_event_personnel_link_04012016.txt',\n",
       " 'chifoia_event_personnel_link_04012017.txt',\n",
       " 'chifoia_event_personnel_link_05012016.txt',\n",
       " 'chifoia_event_personnel_link_05012017.txt',\n",
       " 'chifoia_event_personnel_link_06012016.txt',\n",
       " 'chifoia_event_personnel_link_06012017.txt',\n",
       " 'chifoia_event_personnel_link_07012016.txt',\n",
       " 'chifoia_event_personnel_link_07012017.txt',\n",
       " 'chifoia_event_personnel_link_08012016.txt',\n",
       " 'chifoia_event_personnel_link_08012017.txt',\n",
       " 'chifoia_event_personnel_link_09012016.txt',\n",
       " 'chifoia_event_personnel_link_10012016.txt',\n",
       " 'chifoia_event_personnel_link_11012016.txt',\n",
       " 'chifoia_event_personnel_link_12012016.txt']"
      ]
     },
     "execution_count": 7,
     "metadata": {},
     "output_type": "execute_result"
    }
   ],
   "source": [
    "path = './911call/chifoia_event_personnel_link/'\n",
    "files= os.listdir(path)\n",
    "files"
   ]
  },
  {
   "cell_type": "code",
   "execution_count": 8,
   "metadata": {},
   "outputs": [
    {
     "name": "stdout",
     "output_type": "stream",
     "text": [
      "(423744, 6)\n",
      "(423744, 6)\n",
      "(482870, 6)\n",
      "(906614, 6)\n",
      "(420572, 6)\n",
      "(1327186, 6)\n",
      "(456946, 6)\n",
      "(1784132, 6)\n",
      "(494652, 6)\n",
      "(2278784, 6)\n",
      "(506809, 6)\n",
      "(2785593, 6)\n",
      "(498943, 6)\n",
      "(3284536, 6)\n"
     ]
    },
    {
     "name": "stderr",
     "output_type": "stream",
     "text": [
      "D:\\ProgramData\\Anaconda3\\envs\\FinalProject\\lib\\site-packages\\IPython\\core\\interactiveshell.py:2728: DtypeWarning: Columns (3) have mixed types. Specify dtype option on import or set low_memory=False.\n",
      "  interactivity=interactivity, compiler=compiler, result=result)\n"
     ]
    },
    {
     "name": "stdout",
     "output_type": "stream",
     "text": [
      "(525587, 6)\n",
      "(3810123, 6)\n",
      "(552029, 6)\n",
      "(4362152, 6)\n",
      "(581631, 6)\n",
      "(4943783, 6)\n",
      "(557598, 6)\n",
      "(5501381, 6)\n",
      "(585387, 6)\n",
      "(6086768, 6)\n",
      "(589465, 6)\n",
      "(6676233, 6)\n",
      "(610768, 6)\n",
      "(7287001, 6)\n",
      "(577772, 6)\n",
      "(7864773, 6)\n",
      "(594399, 6)\n",
      "(8459172, 6)\n",
      "(536684, 6)\n",
      "(8995856, 6)\n",
      "(522308, 6)\n",
      "(9518164, 6)\n",
      "(459467, 6)\n",
      "(9977631, 6)\n",
      "(434058, 6)\n",
      "(10411689, 6)\n"
     ]
    }
   ],
   "source": [
    "for file in files:\n",
    "    pd_temp = pd.read_csv(path+file,sep=\"|\",skiprows=1,header=None)\n",
    "    pd_temp.columns = ['EVENTNUMBER', 'UNIT', 'UNAOCCCNT', 'PERSID', 'UNITLOGONDATE',\n",
    "       'UNITLOGOFFDATE']\n",
    "    print(pd_temp.shape)\n",
    "    pdf = pd.concat([pdf,pd_temp])\n",
    "    print(pdf.shape)"
   ]
  },
  {
   "cell_type": "code",
   "execution_count": 9,
   "metadata": {},
   "outputs": [
    {
     "data": {
      "text/html": [
       "<div>\n",
       "<style scoped>\n",
       "    .dataframe tbody tr th:only-of-type {\n",
       "        vertical-align: middle;\n",
       "    }\n",
       "\n",
       "    .dataframe tbody tr th {\n",
       "        vertical-align: top;\n",
       "    }\n",
       "\n",
       "    .dataframe thead th {\n",
       "        text-align: right;\n",
       "    }\n",
       "</style>\n",
       "<table border=\"1\" class=\"dataframe\">\n",
       "  <thead>\n",
       "    <tr style=\"text-align: right;\">\n",
       "      <th></th>\n",
       "      <th>EVENTNUMBER</th>\n",
       "      <th>UNIT</th>\n",
       "      <th>UNAOCCCNT</th>\n",
       "      <th>PERSID</th>\n",
       "      <th>UNITLOGONDATE</th>\n",
       "      <th>UNITLOGOFFDATE</th>\n",
       "    </tr>\n",
       "  </thead>\n",
       "  <tbody>\n",
       "    <tr>\n",
       "      <th>0</th>\n",
       "      <td>1600100001</td>\n",
       "      <td>2525R</td>\n",
       "      <td>1</td>\n",
       "      <td>17029</td>\n",
       "      <td>NaN</td>\n",
       "      <td>NaN</td>\n",
       "    </tr>\n",
       "    <tr>\n",
       "      <th>1</th>\n",
       "      <td>1600100001</td>\n",
       "      <td>2525R</td>\n",
       "      <td>1</td>\n",
       "      <td>3325</td>\n",
       "      <td>NaN</td>\n",
       "      <td>NaN</td>\n",
       "    </tr>\n",
       "    <tr>\n",
       "      <th>2</th>\n",
       "      <td>1600100001</td>\n",
       "      <td>2535R</td>\n",
       "      <td>2</td>\n",
       "      <td>18494</td>\n",
       "      <td>NaN</td>\n",
       "      <td>NaN</td>\n",
       "    </tr>\n",
       "    <tr>\n",
       "      <th>3</th>\n",
       "      <td>1600100001</td>\n",
       "      <td>2535R</td>\n",
       "      <td>2</td>\n",
       "      <td>9427</td>\n",
       "      <td>NaN</td>\n",
       "      <td>NaN</td>\n",
       "    </tr>\n",
       "    <tr>\n",
       "      <th>4</th>\n",
       "      <td>1600100005</td>\n",
       "      <td>2433R</td>\n",
       "      <td>1</td>\n",
       "      <td>10542</td>\n",
       "      <td>NaN</td>\n",
       "      <td>NaN</td>\n",
       "    </tr>\n",
       "  </tbody>\n",
       "</table>\n",
       "</div>"
      ],
      "text/plain": [
       "   EVENTNUMBER   UNIT  UNAOCCCNT PERSID  UNITLOGONDATE  UNITLOGOFFDATE\n",
       "0   1600100001  2525R          1  17029            NaN             NaN\n",
       "1   1600100001  2525R          1   3325            NaN             NaN\n",
       "2   1600100001  2535R          2  18494            NaN             NaN\n",
       "3   1600100001  2535R          2   9427            NaN             NaN\n",
       "4   1600100005  2433R          1  10542            NaN             NaN"
      ]
     },
     "execution_count": 9,
     "metadata": {},
     "output_type": "execute_result"
    }
   ],
   "source": [
    "pdf.head()"
   ]
  },
  {
   "cell_type": "code",
   "execution_count": 10,
   "metadata": {},
   "outputs": [],
   "source": [
    "pdf.to_csv('./911call/chifoia_event_personnel_link.csv')"
   ]
  },
  {
   "cell_type": "code",
   "execution_count": null,
   "metadata": {},
   "outputs": [],
   "source": []
  }
 ],
 "metadata": {
  "kernelspec": {
   "display_name": "Python 3",
   "language": "python",
   "name": "python3"
  },
  "language_info": {
   "codemirror_mode": {
    "name": "ipython",
    "version": 3
   },
   "file_extension": ".py",
   "mimetype": "text/x-python",
   "name": "python",
   "nbconvert_exporter": "python",
   "pygments_lexer": "ipython3",
   "version": "3.5.5"
  }
 },
 "nbformat": 4,
 "nbformat_minor": 2
}
