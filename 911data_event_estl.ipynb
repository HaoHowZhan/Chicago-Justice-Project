{
 "cells": [
  {
   "cell_type": "code",
   "execution_count": 1,
   "metadata": {},
   "outputs": [],
   "source": [
    "import numpy as np\n",
    "import pandas as pd\n",
    "import os"
   ]
  },
  {
   "cell_type": "code",
   "execution_count": 2,
   "metadata": {},
   "outputs": [],
   "source": [
    "pd_temp = pd.read_csv('./911call/other/chifoia_estl_01012018.csv',skiprows=0,header=0)"
   ]
  },
  {
   "cell_type": "code",
   "execution_count": 3,
   "metadata": {},
   "outputs": [
    {
     "data": {
      "text/html": [
       "<div>\n",
       "<style scoped>\n",
       "    .dataframe tbody tr th:only-of-type {\n",
       "        vertical-align: middle;\n",
       "    }\n",
       "\n",
       "    .dataframe tbody tr th {\n",
       "        vertical-align: top;\n",
       "    }\n",
       "\n",
       "    .dataframe thead th {\n",
       "        text-align: right;\n",
       "    }\n",
       "</style>\n",
       "<table border=\"1\" class=\"dataframe\">\n",
       "  <thead>\n",
       "    <tr style=\"text-align: right;\">\n",
       "      <th></th>\n",
       "      <th>EventNumber</th>\n",
       "      <th>Status</th>\n",
       "      <th>StatusDate</th>\n",
       "      <th>StatusDateHn</th>\n",
       "    </tr>\n",
       "  </thead>\n",
       "  <tbody>\n",
       "    <tr>\n",
       "      <th>0</th>\n",
       "      <td>1800100001</td>\n",
       "      <td>CLS</td>\n",
       "      <td>01/01/2018 00.01.01</td>\n",
       "      <td>11</td>\n",
       "    </tr>\n",
       "    <tr>\n",
       "      <th>1</th>\n",
       "      <td>1800100001</td>\n",
       "      <td>WAI</td>\n",
       "      <td>01/01/2018 00.00.00</td>\n",
       "      <td>23</td>\n",
       "    </tr>\n",
       "    <tr>\n",
       "      <th>2</th>\n",
       "      <td>1800100003</td>\n",
       "      <td>ACK</td>\n",
       "      <td>01/01/2018 00.02.15</td>\n",
       "      <td>2</td>\n",
       "    </tr>\n",
       "    <tr>\n",
       "      <th>3</th>\n",
       "      <td>1800100003</td>\n",
       "      <td>CLS</td>\n",
       "      <td>01/01/2018 02.46.06</td>\n",
       "      <td>48</td>\n",
       "    </tr>\n",
       "    <tr>\n",
       "      <th>4</th>\n",
       "      <td>1800100003</td>\n",
       "      <td>DSP</td>\n",
       "      <td>01/01/2018 00.00.38</td>\n",
       "      <td>29</td>\n",
       "    </tr>\n",
       "  </tbody>\n",
       "</table>\n",
       "</div>"
      ],
      "text/plain": [
       "   EventNumber Status           StatusDate  StatusDateHn\n",
       "0   1800100001    CLS  01/01/2018 00.01.01            11\n",
       "1   1800100001    WAI  01/01/2018 00.00.00            23\n",
       "2   1800100003    ACK  01/01/2018 00.02.15             2\n",
       "3   1800100003    CLS  01/01/2018 02.46.06            48\n",
       "4   1800100003    DSP  01/01/2018 00.00.38            29"
      ]
     },
     "execution_count": 3,
     "metadata": {},
     "output_type": "execute_result"
    }
   ],
   "source": [
    "pd_temp.head()"
   ]
  },
  {
   "cell_type": "code",
   "execution_count": 4,
   "metadata": {},
   "outputs": [
    {
     "data": {
      "text/plain": [
       "Index(['EventNumber', 'Status', 'StatusDate', 'StatusDateHn'], dtype='object')"
      ]
     },
     "execution_count": 4,
     "metadata": {},
     "output_type": "execute_result"
    }
   ],
   "source": [
    "pd_temp.columns "
   ]
  },
  {
   "cell_type": "code",
   "execution_count": 5,
   "metadata": {},
   "outputs": [
    {
     "data": {
      "text/html": [
       "<div>\n",
       "<style scoped>\n",
       "    .dataframe tbody tr th:only-of-type {\n",
       "        vertical-align: middle;\n",
       "    }\n",
       "\n",
       "    .dataframe tbody tr th {\n",
       "        vertical-align: top;\n",
       "    }\n",
       "\n",
       "    .dataframe thead th {\n",
       "        text-align: right;\n",
       "    }\n",
       "</style>\n",
       "<table border=\"1\" class=\"dataframe\">\n",
       "  <thead>\n",
       "    <tr style=\"text-align: right;\">\n",
       "      <th></th>\n",
       "      <th>EventNumber</th>\n",
       "      <th>Status</th>\n",
       "      <th>StatusDate</th>\n",
       "      <th>StatusDateHn</th>\n",
       "    </tr>\n",
       "  </thead>\n",
       "  <tbody>\n",
       "    <tr>\n",
       "      <th>0</th>\n",
       "      <td>1800100001</td>\n",
       "      <td>CLS</td>\n",
       "      <td>01/01/2018 00.01.01</td>\n",
       "      <td>11</td>\n",
       "    </tr>\n",
       "    <tr>\n",
       "      <th>1</th>\n",
       "      <td>1800100001</td>\n",
       "      <td>WAI</td>\n",
       "      <td>01/01/2018 00.00.00</td>\n",
       "      <td>23</td>\n",
       "    </tr>\n",
       "    <tr>\n",
       "      <th>2</th>\n",
       "      <td>1800100003</td>\n",
       "      <td>ACK</td>\n",
       "      <td>01/01/2018 00.02.15</td>\n",
       "      <td>2</td>\n",
       "    </tr>\n",
       "    <tr>\n",
       "      <th>3</th>\n",
       "      <td>1800100003</td>\n",
       "      <td>CLS</td>\n",
       "      <td>01/01/2018 02.46.06</td>\n",
       "      <td>48</td>\n",
       "    </tr>\n",
       "    <tr>\n",
       "      <th>4</th>\n",
       "      <td>1800100003</td>\n",
       "      <td>DSP</td>\n",
       "      <td>01/01/2018 00.00.38</td>\n",
       "      <td>29</td>\n",
       "    </tr>\n",
       "  </tbody>\n",
       "</table>\n",
       "</div>"
      ],
      "text/plain": [
       "   EventNumber Status           StatusDate  StatusDateHn\n",
       "0   1800100001    CLS  01/01/2018 00.01.01            11\n",
       "1   1800100001    WAI  01/01/2018 00.00.00            23\n",
       "2   1800100003    ACK  01/01/2018 00.02.15             2\n",
       "3   1800100003    CLS  01/01/2018 02.46.06            48\n",
       "4   1800100003    DSP  01/01/2018 00.00.38            29"
      ]
     },
     "execution_count": 5,
     "metadata": {},
     "output_type": "execute_result"
    }
   ],
   "source": [
    "pd_temp.head()"
   ]
  },
  {
   "cell_type": "code",
   "execution_count": 6,
   "metadata": {},
   "outputs": [],
   "source": [
    "pdf = pd.DataFrame()"
   ]
  },
  {
   "cell_type": "code",
   "execution_count": 7,
   "metadata": {},
   "outputs": [
    {
     "data": {
      "text/plain": [
       "['chifoia_estl_01012018.csv',\n",
       " 'chifoia_estl_02012018.csv',\n",
       " 'chifoia_estl_03012018.csv',\n",
       " 'chifoia_estl_04012018.csv',\n",
       " 'chifoia_estl_09012017.csv',\n",
       " 'chifoia_estl_10012017.csv',\n",
       " 'chifoia_estl_11012017.csv',\n",
       " 'chifoia_estl_12012017.csv']"
      ]
     },
     "execution_count": 7,
     "metadata": {},
     "output_type": "execute_result"
    }
   ],
   "source": [
    "path = './911call/other/'\n",
    "files= os.listdir(path)\n",
    "files"
   ]
  },
  {
   "cell_type": "code",
   "execution_count": 8,
   "metadata": {},
   "outputs": [
    {
     "name": "stdout",
     "output_type": "stream",
     "text": [
      "(762165, 4)\n",
      "(762165, 4)\n",
      "(693887, 4)\n",
      "(1456052, 4)\n",
      "(816312, 4)\n",
      "(2272364, 4)\n",
      "(805345, 4)\n",
      "(3077709, 4)\n",
      "(861343, 4)\n",
      "(3939052, 4)\n",
      "(847090, 4)\n",
      "(4786142, 4)\n",
      "(775851, 4)\n",
      "(5561993, 4)\n",
      "(798349, 4)\n",
      "(6360342, 4)\n"
     ]
    }
   ],
   "source": [
    "for file in files:\n",
    "    pd_temp = pd.read_csv(path+file,skiprows=1,header=None)\n",
    "    pd_temp.columns = ['EventNumber', 'Status', 'StatusDate', 'StatusDateHn']\n",
    "    print(pd_temp.shape)\n",
    "    pdf = pd.concat([pdf,pd_temp])\n",
    "    print(pdf.shape)"
   ]
  },
  {
   "cell_type": "code",
   "execution_count": 9,
   "metadata": {},
   "outputs": [
    {
     "data": {
      "text/html": [
       "<div>\n",
       "<style scoped>\n",
       "    .dataframe tbody tr th:only-of-type {\n",
       "        vertical-align: middle;\n",
       "    }\n",
       "\n",
       "    .dataframe tbody tr th {\n",
       "        vertical-align: top;\n",
       "    }\n",
       "\n",
       "    .dataframe thead th {\n",
       "        text-align: right;\n",
       "    }\n",
       "</style>\n",
       "<table border=\"1\" class=\"dataframe\">\n",
       "  <thead>\n",
       "    <tr style=\"text-align: right;\">\n",
       "      <th></th>\n",
       "      <th>EventNumber</th>\n",
       "      <th>Status</th>\n",
       "      <th>StatusDate</th>\n",
       "      <th>StatusDateHn</th>\n",
       "    </tr>\n",
       "  </thead>\n",
       "  <tbody>\n",
       "    <tr>\n",
       "      <th>0</th>\n",
       "      <td>1800100001</td>\n",
       "      <td>CLS</td>\n",
       "      <td>01/01/2018 00.01.01</td>\n",
       "      <td>11</td>\n",
       "    </tr>\n",
       "    <tr>\n",
       "      <th>1</th>\n",
       "      <td>1800100001</td>\n",
       "      <td>WAI</td>\n",
       "      <td>01/01/2018 00.00.00</td>\n",
       "      <td>23</td>\n",
       "    </tr>\n",
       "    <tr>\n",
       "      <th>2</th>\n",
       "      <td>1800100003</td>\n",
       "      <td>ACK</td>\n",
       "      <td>01/01/2018 00.02.15</td>\n",
       "      <td>2</td>\n",
       "    </tr>\n",
       "    <tr>\n",
       "      <th>3</th>\n",
       "      <td>1800100003</td>\n",
       "      <td>CLS</td>\n",
       "      <td>01/01/2018 02.46.06</td>\n",
       "      <td>48</td>\n",
       "    </tr>\n",
       "    <tr>\n",
       "      <th>4</th>\n",
       "      <td>1800100003</td>\n",
       "      <td>DSP</td>\n",
       "      <td>01/01/2018 00.00.38</td>\n",
       "      <td>29</td>\n",
       "    </tr>\n",
       "  </tbody>\n",
       "</table>\n",
       "</div>"
      ],
      "text/plain": [
       "   EventNumber Status           StatusDate  StatusDateHn\n",
       "0   1800100001    CLS  01/01/2018 00.01.01            11\n",
       "1   1800100001    WAI  01/01/2018 00.00.00            23\n",
       "2   1800100003    ACK  01/01/2018 00.02.15             2\n",
       "3   1800100003    CLS  01/01/2018 02.46.06            48\n",
       "4   1800100003    DSP  01/01/2018 00.00.38            29"
      ]
     },
     "execution_count": 9,
     "metadata": {},
     "output_type": "execute_result"
    }
   ],
   "source": [
    "pdf.head()"
   ]
  },
  {
   "cell_type": "code",
   "execution_count": 10,
   "metadata": {},
   "outputs": [],
   "source": [
    "pdf.StatusDate = pd.to_datetime(pdf.StatusDate, format='%m/%d/%Y %H.%M.%S',errors='coerce')"
   ]
  },
  {
   "cell_type": "code",
   "execution_count": 11,
   "metadata": {},
   "outputs": [],
   "source": [
    "# pdf.OVERRIDEDATE = pd.to_datetime(pdf.OVERRIDEDATE, format='%m/%d/%Y %H.%M.%S',errors='coerce')"
   ]
  },
  {
   "cell_type": "code",
   "execution_count": 12,
   "metadata": {},
   "outputs": [],
   "source": [
    "# pdf.SEGMENTDATE = pd.to_datetime(pdf.SEGMENTDATE, format='%m/%d/%Y %H.%M.%S',errors='coerce')"
   ]
  },
  {
   "cell_type": "code",
   "execution_count": 13,
   "metadata": {},
   "outputs": [],
   "source": [
    "pdf.to_csv('./911call/chifoia_event_estl.csv')"
   ]
  },
  {
   "cell_type": "code",
   "execution_count": 14,
   "metadata": {},
   "outputs": [
    {
     "data": {
      "text/html": [
       "<div>\n",
       "<style scoped>\n",
       "    .dataframe tbody tr th:only-of-type {\n",
       "        vertical-align: middle;\n",
       "    }\n",
       "\n",
       "    .dataframe tbody tr th {\n",
       "        vertical-align: top;\n",
       "    }\n",
       "\n",
       "    .dataframe thead th {\n",
       "        text-align: right;\n",
       "    }\n",
       "</style>\n",
       "<table border=\"1\" class=\"dataframe\">\n",
       "  <thead>\n",
       "    <tr style=\"text-align: right;\">\n",
       "      <th></th>\n",
       "      <th>EventNumber</th>\n",
       "      <th>Status</th>\n",
       "      <th>StatusDate</th>\n",
       "      <th>StatusDateHn</th>\n",
       "    </tr>\n",
       "  </thead>\n",
       "  <tbody>\n",
       "    <tr>\n",
       "      <th>0</th>\n",
       "      <td>1800100001</td>\n",
       "      <td>CLS</td>\n",
       "      <td>2018-01-01 00:01:01</td>\n",
       "      <td>11</td>\n",
       "    </tr>\n",
       "    <tr>\n",
       "      <th>1</th>\n",
       "      <td>1800100001</td>\n",
       "      <td>WAI</td>\n",
       "      <td>2018-01-01 00:00:00</td>\n",
       "      <td>23</td>\n",
       "    </tr>\n",
       "    <tr>\n",
       "      <th>2</th>\n",
       "      <td>1800100003</td>\n",
       "      <td>ACK</td>\n",
       "      <td>2018-01-01 00:02:15</td>\n",
       "      <td>2</td>\n",
       "    </tr>\n",
       "    <tr>\n",
       "      <th>3</th>\n",
       "      <td>1800100003</td>\n",
       "      <td>CLS</td>\n",
       "      <td>2018-01-01 02:46:06</td>\n",
       "      <td>48</td>\n",
       "    </tr>\n",
       "    <tr>\n",
       "      <th>4</th>\n",
       "      <td>1800100003</td>\n",
       "      <td>DSP</td>\n",
       "      <td>2018-01-01 00:00:38</td>\n",
       "      <td>29</td>\n",
       "    </tr>\n",
       "  </tbody>\n",
       "</table>\n",
       "</div>"
      ],
      "text/plain": [
       "   EventNumber Status          StatusDate  StatusDateHn\n",
       "0   1800100001    CLS 2018-01-01 00:01:01            11\n",
       "1   1800100001    WAI 2018-01-01 00:00:00            23\n",
       "2   1800100003    ACK 2018-01-01 00:02:15             2\n",
       "3   1800100003    CLS 2018-01-01 02:46:06            48\n",
       "4   1800100003    DSP 2018-01-01 00:00:38            29"
      ]
     },
     "execution_count": 14,
     "metadata": {},
     "output_type": "execute_result"
    }
   ],
   "source": [
    "pdf.head()"
   ]
  },
  {
   "cell_type": "code",
   "execution_count": null,
   "metadata": {},
   "outputs": [],
   "source": []
  }
 ],
 "metadata": {
  "kernelspec": {
   "display_name": "Python 3",
   "language": "python",
   "name": "python3"
  },
  "language_info": {
   "codemirror_mode": {
    "name": "ipython",
    "version": 3
   },
   "file_extension": ".py",
   "mimetype": "text/x-python",
   "name": "python",
   "nbconvert_exporter": "python",
   "pygments_lexer": "ipython3",
   "version": "3.5.5"
  }
 },
 "nbformat": 4,
 "nbformat_minor": 2
}
