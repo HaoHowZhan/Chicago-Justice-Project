{
 "cells": [
  {
   "cell_type": "code",
   "execution_count": 1,
   "metadata": {},
   "outputs": [],
   "source": [
    "import numpy as np\n",
    "import pandas as pd\n",
    "import os\n",
    "import datetime\n",
    "from geopy import distance as geo\n",
    "import dask.dataframe as dd\n",
    "from dask.multiprocessing import get\n",
    "# from scipy.spatial import distance"
   ]
  },
  {
   "cell_type": "code",
   "execution_count": 2,
   "metadata": {},
   "outputs": [],
   "source": [
    "crimes = pd.read_csv('./crimes_data_for_matching.csv',skiprows=0,header=0)"
   ]
  },
  {
   "cell_type": "code",
   "execution_count": 3,
   "metadata": {},
   "outputs": [
    {
     "data": {
      "text/html": [
       "<div>\n",
       "<style scoped>\n",
       "    .dataframe tbody tr th:only-of-type {\n",
       "        vertical-align: middle;\n",
       "    }\n",
       "\n",
       "    .dataframe tbody tr th {\n",
       "        vertical-align: top;\n",
       "    }\n",
       "\n",
       "    .dataframe thead th {\n",
       "        text-align: right;\n",
       "    }\n",
       "</style>\n",
       "<table border=\"1\" class=\"dataframe\">\n",
       "  <thead>\n",
       "    <tr style=\"text-align: right;\">\n",
       "      <th></th>\n",
       "      <th>uid</th>\n",
       "      <th>case_number</th>\n",
       "      <th>date</th>\n",
       "      <th>primary_type</th>\n",
       "      <th>latitude</th>\n",
       "      <th>longitude</th>\n",
       "    </tr>\n",
       "  </thead>\n",
       "  <tbody>\n",
       "    <tr>\n",
       "      <th>0</th>\n",
       "      <td>10364596</td>\n",
       "      <td>HY556489</td>\n",
       "      <td>2015-12-31 18:45:00-06</td>\n",
       "      <td>BATTERY</td>\n",
       "      <td>41.894898</td>\n",
       "      <td>-87.759702</td>\n",
       "    </tr>\n",
       "    <tr>\n",
       "      <th>1</th>\n",
       "      <td>10364616</td>\n",
       "      <td>HY556411</td>\n",
       "      <td>2015-12-31 16:28:00-06</td>\n",
       "      <td>NARCOTICS</td>\n",
       "      <td>41.964437</td>\n",
       "      <td>-87.662375</td>\n",
       "    </tr>\n",
       "    <tr>\n",
       "      <th>2</th>\n",
       "      <td>10364656</td>\n",
       "      <td>HY556590</td>\n",
       "      <td>2015-12-31 22:05:00-06</td>\n",
       "      <td>BATTERY</td>\n",
       "      <td>41.905562</td>\n",
       "      <td>-87.707614</td>\n",
       "    </tr>\n",
       "    <tr>\n",
       "      <th>3</th>\n",
       "      <td>10364664</td>\n",
       "      <td>HY556241</td>\n",
       "      <td>2015-12-31 15:15:00-06</td>\n",
       "      <td>ASSAULT</td>\n",
       "      <td>41.885654</td>\n",
       "      <td>-87.754346</td>\n",
       "    </tr>\n",
       "    <tr>\n",
       "      <th>4</th>\n",
       "      <td>10364742</td>\n",
       "      <td>HY556615</td>\n",
       "      <td>2015-12-31 23:15:00-06</td>\n",
       "      <td>BATTERY</td>\n",
       "      <td>41.679862</td>\n",
       "      <td>-87.621982</td>\n",
       "    </tr>\n",
       "  </tbody>\n",
       "</table>\n",
       "</div>"
      ],
      "text/plain": [
       "        uid case_number                    date primary_type   latitude  \\\n",
       "0  10364596    HY556489  2015-12-31 18:45:00-06      BATTERY  41.894898   \n",
       "1  10364616    HY556411  2015-12-31 16:28:00-06    NARCOTICS  41.964437   \n",
       "2  10364656    HY556590  2015-12-31 22:05:00-06      BATTERY  41.905562   \n",
       "3  10364664    HY556241  2015-12-31 15:15:00-06      ASSAULT  41.885654   \n",
       "4  10364742    HY556615  2015-12-31 23:15:00-06      BATTERY  41.679862   \n",
       "\n",
       "   longitude  \n",
       "0 -87.759702  \n",
       "1 -87.662375  \n",
       "2 -87.707614  \n",
       "3 -87.754346  \n",
       "4 -87.621982  "
      ]
     },
     "execution_count": 3,
     "metadata": {},
     "output_type": "execute_result"
    }
   ],
   "source": [
    "crimes.head()"
   ]
  },
  {
   "cell_type": "code",
   "execution_count": 4,
   "metadata": {},
   "outputs": [],
   "source": [
    "calldata = pd.read_csv('./call_data_for_matching.csv',skiprows=0,header=0)"
   ]
  },
  {
   "cell_type": "code",
   "execution_count": 5,
   "metadata": {},
   "outputs": [
    {
     "data": {
      "text/html": [
       "<div>\n",
       "<style scoped>\n",
       "    .dataframe tbody tr th:only-of-type {\n",
       "        vertical-align: middle;\n",
       "    }\n",
       "\n",
       "    .dataframe tbody tr th {\n",
       "        vertical-align: top;\n",
       "    }\n",
       "\n",
       "    .dataframe thead th {\n",
       "        text-align: right;\n",
       "    }\n",
       "</style>\n",
       "<table border=\"1\" class=\"dataframe\">\n",
       "  <thead>\n",
       "    <tr style=\"text-align: right;\">\n",
       "      <th></th>\n",
       "      <th>event_number</th>\n",
       "      <th>x</th>\n",
       "      <th>y</th>\n",
       "      <th>entrydate</th>\n",
       "      <th>inittype</th>\n",
       "      <th>fintype</th>\n",
       "    </tr>\n",
       "  </thead>\n",
       "  <tbody>\n",
       "    <tr>\n",
       "      <th>0</th>\n",
       "      <td>1600100965</td>\n",
       "      <td>-87.595175</td>\n",
       "      <td>41.765082</td>\n",
       "      <td>2016-01-01 00:54:11-06</td>\n",
       "      <td>SUSP</td>\n",
       "      <td>SUSPER</td>\n",
       "    </tr>\n",
       "    <tr>\n",
       "      <th>1</th>\n",
       "      <td>1600100966</td>\n",
       "      <td>-87.643028</td>\n",
       "      <td>41.765225</td>\n",
       "      <td>2016-01-01 00:54:15-06</td>\n",
       "      <td>CELLHU</td>\n",
       "      <td>CELLHU</td>\n",
       "    </tr>\n",
       "    <tr>\n",
       "      <th>2</th>\n",
       "      <td>1600100967</td>\n",
       "      <td>-87.753893</td>\n",
       "      <td>41.929623</td>\n",
       "      <td>2016-01-01 00:54:15-06</td>\n",
       "      <td>SHOTSF</td>\n",
       "      <td>SHOTSF</td>\n",
       "    </tr>\n",
       "    <tr>\n",
       "      <th>3</th>\n",
       "      <td>1600100968</td>\n",
       "      <td>-87.618541</td>\n",
       "      <td>41.889492</td>\n",
       "      <td>2016-01-01 00:54:18-06</td>\n",
       "      <td>CELLHU</td>\n",
       "      <td>CELLHU</td>\n",
       "    </tr>\n",
       "    <tr>\n",
       "      <th>4</th>\n",
       "      <td>1600100969</td>\n",
       "      <td>-87.638053</td>\n",
       "      <td>41.923793</td>\n",
       "      <td>2016-01-01 00:54:22-06</td>\n",
       "      <td>CHECWB</td>\n",
       "      <td>CHECWB</td>\n",
       "    </tr>\n",
       "  </tbody>\n",
       "</table>\n",
       "</div>"
      ],
      "text/plain": [
       "   event_number          x          y               entrydate inittype fintype\n",
       "0    1600100965 -87.595175  41.765082  2016-01-01 00:54:11-06     SUSP  SUSPER\n",
       "1    1600100966 -87.643028  41.765225  2016-01-01 00:54:15-06   CELLHU  CELLHU\n",
       "2    1600100967 -87.753893  41.929623  2016-01-01 00:54:15-06   SHOTSF  SHOTSF\n",
       "3    1600100968 -87.618541  41.889492  2016-01-01 00:54:18-06   CELLHU  CELLHU\n",
       "4    1600100969 -87.638053  41.923793  2016-01-01 00:54:22-06   CHECWB  CHECWB"
      ]
     },
     "execution_count": 5,
     "metadata": {},
     "output_type": "execute_result"
    }
   ],
   "source": [
    "calldata.head()"
   ]
  },
  {
   "cell_type": "code",
   "execution_count": null,
   "metadata": {},
   "outputs": [],
   "source": [
    "calldata.entrydate = pd.to_datetime(calldata.entrydate,errors='coerce')\n",
    "crimes.date = pd.to_datetime(crimes.date,errors='coerce')"
   ]
  },
  {
   "cell_type": "code",
   "execution_count": null,
   "metadata": {},
   "outputs": [],
   "source": [
    "calldata.head()"
   ]
  },
  {
   "cell_type": "code",
   "execution_count": null,
   "metadata": {},
   "outputs": [],
   "source": [
    "crimes.head()"
   ]
  },
  {
   "cell_type": "code",
   "execution_count": null,
   "metadata": {},
   "outputs": [],
   "source": [
    "# all the time have been translated to UTC\n",
    "# But that is fine.\n",
    "##################################\n",
    "# Change the column name of call data for further work\n",
    "calldata.columns "
   ]
  },
  {
   "cell_type": "code",
   "execution_count": null,
   "metadata": {},
   "outputs": [],
   "source": [
    "calldata.columns = ['event_number', 'longitude', 'latitude', 'entrydate', 'inittype', 'fintype']"
   ]
  },
  {
   "cell_type": "code",
   "execution_count": null,
   "metadata": {},
   "outputs": [],
   "source": [
    "calldata.head()"
   ]
  },
  {
   "cell_type": "code",
   "execution_count": null,
   "metadata": {},
   "outputs": [],
   "source": [
    "crimes = crimes.dropna(subset=['latitude','longitude'])\n",
    "calldata = calldata.dropna(subset=['latitude','longitude'])"
   ]
  },
  {
   "cell_type": "code",
   "execution_count": null,
   "metadata": {},
   "outputs": [],
   "source": [
    "calldata = calldata.drop(columns=['inittype', 'fintype'])"
   ]
  },
  {
   "cell_type": "code",
   "execution_count": null,
   "metadata": {},
   "outputs": [],
   "source": [
    "calldata.count().sum()"
   ]
  },
  {
   "cell_type": "code",
   "execution_count": null,
   "metadata": {},
   "outputs": [],
   "source": [
    "usedata = calldata.sample(frac=0.05, replace=False)\n"
   ]
  },
  {
   "cell_type": "code",
   "execution_count": null,
   "metadata": {},
   "outputs": [],
   "source": [
    "ddata = dd.from_pandas(usedata, npartitions=12)"
   ]
  },
  {
   "cell_type": "code",
   "execution_count": null,
   "metadata": {},
   "outputs": [],
   "source": [
    "time_penalty = 0\n",
    "time_window = 3600\n",
    "distance_cutoff = 300\n",
    "combine_cutoff =300\n",
    "time_diff = datetime.timedelta(seconds=time_window)"
   ]
  },
  {
   "cell_type": "code",
   "execution_count": null,
   "metadata": {},
   "outputs": [],
   "source": [
    "def find_the_matching(calldata,crimesdata,time_penalty,time_diff,distance_cutoff,combine_cutoff):\n",
    "    if np.isnan(calldata['latitude'] ):\n",
    "        return pd.Series([calldata['event_number'],np.nan,np.nan,np.nan])\n",
    "    \n",
    "    if calldata['latitude'] >50 or calldata['latitude']<30 or calldata['longitude']>-80 or calldata['longitude']<-100:\n",
    "        return pd.Series([calldata['event_number'],np.nan,np.nan,np.nan])\n",
    "    \n",
    "    lat_lon_sum = calldata['latitude'] +calldata['longitude']\n",
    "    matching_temp = crimesdata[(crimesdata['date']<=calldata['entrydate']+time_diff) & (crimesdata['date']>= calldata['entrydate']-time_diff) & (crimesdata['latitude']+crimesdata['longitude']>= lat_lon_sum-0.1) & (crimesdata['latitude']+crimesdata['longitude']<= lat_lon_sum+0.1)]\n",
    "    if matching_temp.count().sum()==0:\n",
    "        return pd.Series([calldata['event_number'],np.nan,np.nan,np.nan])\n",
    "    idx = matching_temp.apply(lambda x: geo.distance((x['latitude'],x['longitude']),(calldata['latitude'],calldata['longitude'])).m\n",
    "                                  + np.abs(time_penalty*(x['date']-calldata['entrydate']).seconds/3600  ),axis =1 ).idxmin()\n",
    "    return_data = matching_temp.loc[idx]\n",
    "    geo_dis = geo.distance((return_data['latitude'],return_data['longitude']),(calldata['latitude'],calldata['longitude'])).m \n",
    "    diff = np.abs((return_data['date']-calldata['entrydate']).seconds/60 + (return_data['date']-calldata['entrydate']).days*1440)\n",
    "    # time diff in mins\n",
    "    if geo_dis > distance_cutoff:\n",
    "        return pd.Series([calldata['event_number'],np.nan,np.nan,np.nan])\n",
    "    \n",
    "    if geo.distance((return_data['latitude'],return_data['longitude']),(calldata['latitude'],calldata['longitude'])).m + diff/60 * time_penalty >combine_cutoff:\n",
    "        return pd.Series([calldata['event_number'],np.nan,np.nan,np.nan])\n",
    "    \n",
    "    return pd.Series([calldata['event_number'],return_data['uid'],geo_dis,diff])\n",
    "                                                                                                                \n",
    " "
   ]
  },
  {
   "cell_type": "code",
   "execution_count": null,
   "metadata": {},
   "outputs": [],
   "source": []
  },
  {
   "cell_type": "markdown",
   "metadata": {},
   "source": [
    "def find_the_matching(calldata,crimesdata,time_penalty,time_diff,distance_cutoff,combine_cutoff):\n",
    "    if np.isnan(calldata['latitude'] ):\n",
    "        return pd.Series([calldata['event_number'],np.nan,np.nan,np.nan])\n",
    "    \n",
    "    if calldata['latitude'] >50 or calldata['latitude']<30 or calldata['longitude']>-80 or calldata['longitude']<-100:\n",
    "        return pd.Series([calldata['event_number'],np.nan,np.nan,np.nan])\n",
    "    \n",
    "    matching_temp = crimesdata[(crimesdata['date']<=calldata['entrydate']+time_diff) & (crimesdata['date']>= calldata['entrydate']-time_diff)\n",
    "                              & (crimesdata['latitude']<=calldata['latitude']+0.05) & (crimesdata['latitude']>=calldata['latitude']-0.05)\n",
    "                              & (crimesdata['longitude']<=calldata['longitude']+0.05) & (crimesdata['longitude']>=calldata['longitude']-0.05)]\n",
    "    if matching_temp.count()==0:\n",
    "        return pd.Series([calldata['event_number'],np.nan,np.nan,np.nan])\n",
    "    idx = matching_temp.apply(lambda x: geo.distance((x['latitude'],x['longitude']),(calldata['latitude'],calldata['longitude'])).m\n",
    "                                  + np.abs(time_penalty*(x['date']-calldata['entrydate']).seconds/3600  ),axis =1 ).idxmin()\n",
    "    return_data = matching_temp.loc[idx]\n",
    "    geo_dis = geo.distance((return_data['latitude'],return_data['longitude']),(calldata['latitude'],calldata['longitude'])).m \n",
    "    diff = np.abs((return_data['date']-calldata['entrydate']).seconds/60 + (return_data['date']-calldata['entrydate']).days*1440)\n",
    "    # time diff in mins\n",
    "    if geo_dis > distance_cutoff:\n",
    "        return pd.Series([calldata['event_number'],np.nan,np.nan,np.nan])\n",
    "    \n",
    "    if geo.distance((return_data['latitude'],return_data['longitude']),(calldata['latitude'],calldata['longitude'])).m + diff/60 * time_penalty >combine_cutoff:\n",
    "        return pd.Series([calldata['event_number'],np.nan,np.nan,np.nan])\n",
    "    \n",
    "    return pd.Series([calldata['event_number'],return_data['uid'],geo_dis,diff])\n",
    "                                                                                                                \n",
    " "
   ]
  },
  {
   "cell_type": "code",
   "execution_count": null,
   "metadata": {},
   "outputs": [],
   "source": [
    "res=ddata.map_partitions(lambda df: df.apply((lambda x: find_the_matching(x,crimes,time_penalty,time_diff,distance_cutoff,combine_cutoff)), axis=1)).compute(get=get)"
   ]
  },
  {
   "cell_type": "code",
   "execution_count": null,
   "metadata": {
    "scrolled": false
   },
   "outputs": [],
   "source": [
    "# calldata[['crimes_uid','distance','time_diff']]=calldata.apply(find_the_matching,args=[crimes,time_penalty,time_diff,distance_cutoff,combine_cutoff],axis =1)"
   ]
  },
  {
   "cell_type": "code",
   "execution_count": null,
   "metadata": {},
   "outputs": [],
   "source": []
  },
  {
   "cell_type": "code",
   "execution_count": null,
   "metadata": {},
   "outputs": [],
   "source": [
    "res.dropna()"
   ]
  },
  {
   "cell_type": "code",
   "execution_count": null,
   "metadata": {},
   "outputs": [],
   "source": [
    "res.head()"
   ]
  },
  {
   "cell_type": "code",
   "execution_count": null,
   "metadata": {},
   "outputs": [],
   "source": [
    "res.to_csv('./out.csv')"
   ]
  },
  {
   "cell_type": "code",
   "execution_count": null,
   "metadata": {},
   "outputs": [],
   "source": []
  }
 ],
 "metadata": {
  "kernelspec": {
   "display_name": "Python 3",
   "language": "python",
   "name": "python3"
  },
  "language_info": {
   "codemirror_mode": {
    "name": "ipython",
    "version": 3
   },
   "file_extension": ".py",
   "mimetype": "text/x-python",
   "name": "python",
   "nbconvert_exporter": "python",
   "pygments_lexer": "ipython3",
   "version": "3.5.5"
  }
 },
 "nbformat": 4,
 "nbformat_minor": 2
}
