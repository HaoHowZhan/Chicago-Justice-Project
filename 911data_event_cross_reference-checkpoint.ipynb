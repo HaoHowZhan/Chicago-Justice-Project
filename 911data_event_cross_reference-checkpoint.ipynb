{
 "cells": [
  {
   "cell_type": "code",
   "execution_count": 1,
   "metadata": {},
   "outputs": [],
   "source": [
    "import numpy as np\n",
    "import pandas as pd\n",
    "import os"
   ]
  },
  {
   "cell_type": "code",
   "execution_count": 2,
   "metadata": {},
   "outputs": [],
   "source": [
    "pd_event_cross_reference_temp = pd.read_csv('./911call/chifoia_event_cross_reference/chifoia_event_cross_reference_01012017.txt',sep=\"|\",skiprows=1,header=None)"
   ]
  },
  {
   "cell_type": "code",
   "execution_count": 3,
   "metadata": {},
   "outputs": [
    {
     "data": {
      "text/html": [
       "<div>\n",
       "<style scoped>\n",
       "    .dataframe tbody tr th:only-of-type {\n",
       "        vertical-align: middle;\n",
       "    }\n",
       "\n",
       "    .dataframe tbody tr th {\n",
       "        vertical-align: top;\n",
       "    }\n",
       "\n",
       "    .dataframe thead th {\n",
       "        text-align: right;\n",
       "    }\n",
       "</style>\n",
       "<table border=\"1\" class=\"dataframe\">\n",
       "  <thead>\n",
       "    <tr style=\"text-align: right;\">\n",
       "      <th></th>\n",
       "      <th>0</th>\n",
       "      <th>1</th>\n",
       "      <th>2</th>\n",
       "    </tr>\n",
       "  </thead>\n",
       "  <tbody>\n",
       "    <tr>\n",
       "      <th>0</th>\n",
       "      <td>1700100003</td>\n",
       "      <td>163662216</td>\n",
       "      <td>911</td>\n",
       "    </tr>\n",
       "    <tr>\n",
       "      <th>1</th>\n",
       "      <td>1700100004</td>\n",
       "      <td>1700100107</td>\n",
       "      <td>DUP</td>\n",
       "    </tr>\n",
       "    <tr>\n",
       "      <th>2</th>\n",
       "      <td>1700100004</td>\n",
       "      <td>1700100208</td>\n",
       "      <td>DUP</td>\n",
       "    </tr>\n",
       "    <tr>\n",
       "      <th>3</th>\n",
       "      <td>1700100004</td>\n",
       "      <td>1700100238</td>\n",
       "      <td>DUP</td>\n",
       "    </tr>\n",
       "    <tr>\n",
       "      <th>4</th>\n",
       "      <td>1700100004</td>\n",
       "      <td>1700100247</td>\n",
       "      <td>DUP</td>\n",
       "    </tr>\n",
       "  </tbody>\n",
       "</table>\n",
       "</div>"
      ],
      "text/plain": [
       "            0           1    2\n",
       "0  1700100003   163662216  911\n",
       "1  1700100004  1700100107  DUP\n",
       "2  1700100004  1700100208  DUP\n",
       "3  1700100004  1700100238  DUP\n",
       "4  1700100004  1700100247  DUP"
      ]
     },
     "execution_count": 3,
     "metadata": {},
     "output_type": "execute_result"
    }
   ],
   "source": [
    "pd_event_cross_reference_temp.head()"
   ]
  },
  {
   "cell_type": "code",
   "execution_count": 4,
   "metadata": {},
   "outputs": [],
   "source": [
    "pd_event_cross_reference_temp.columns  = ['EVENTNUMBER', 'CROSSEVENTNUMBER', 'CROSSTYPEFLAG']"
   ]
  },
  {
   "cell_type": "code",
   "execution_count": 5,
   "metadata": {},
   "outputs": [
    {
     "data": {
      "text/html": [
       "<div>\n",
       "<style scoped>\n",
       "    .dataframe tbody tr th:only-of-type {\n",
       "        vertical-align: middle;\n",
       "    }\n",
       "\n",
       "    .dataframe tbody tr th {\n",
       "        vertical-align: top;\n",
       "    }\n",
       "\n",
       "    .dataframe thead th {\n",
       "        text-align: right;\n",
       "    }\n",
       "</style>\n",
       "<table border=\"1\" class=\"dataframe\">\n",
       "  <thead>\n",
       "    <tr style=\"text-align: right;\">\n",
       "      <th></th>\n",
       "      <th>EVENTNUMBER</th>\n",
       "      <th>CROSSEVENTNUMBER</th>\n",
       "      <th>CROSSTYPEFLAG</th>\n",
       "    </tr>\n",
       "  </thead>\n",
       "  <tbody>\n",
       "    <tr>\n",
       "      <th>0</th>\n",
       "      <td>1700100003</td>\n",
       "      <td>163662216</td>\n",
       "      <td>911</td>\n",
       "    </tr>\n",
       "    <tr>\n",
       "      <th>1</th>\n",
       "      <td>1700100004</td>\n",
       "      <td>1700100107</td>\n",
       "      <td>DUP</td>\n",
       "    </tr>\n",
       "    <tr>\n",
       "      <th>2</th>\n",
       "      <td>1700100004</td>\n",
       "      <td>1700100208</td>\n",
       "      <td>DUP</td>\n",
       "    </tr>\n",
       "    <tr>\n",
       "      <th>3</th>\n",
       "      <td>1700100004</td>\n",
       "      <td>1700100238</td>\n",
       "      <td>DUP</td>\n",
       "    </tr>\n",
       "    <tr>\n",
       "      <th>4</th>\n",
       "      <td>1700100004</td>\n",
       "      <td>1700100247</td>\n",
       "      <td>DUP</td>\n",
       "    </tr>\n",
       "  </tbody>\n",
       "</table>\n",
       "</div>"
      ],
      "text/plain": [
       "   EVENTNUMBER  CROSSEVENTNUMBER CROSSTYPEFLAG\n",
       "0   1700100003         163662216           911\n",
       "1   1700100004        1700100107           DUP\n",
       "2   1700100004        1700100208           DUP\n",
       "3   1700100004        1700100238           DUP\n",
       "4   1700100004        1700100247           DUP"
      ]
     },
     "execution_count": 5,
     "metadata": {},
     "output_type": "execute_result"
    }
   ],
   "source": [
    "pd_event_cross_reference_temp.head()"
   ]
  },
  {
   "cell_type": "code",
   "execution_count": 6,
   "metadata": {},
   "outputs": [],
   "source": [
    "pd_event_cross_reference = pd.DataFrame()"
   ]
  },
  {
   "cell_type": "code",
   "execution_count": 7,
   "metadata": {},
   "outputs": [
    {
     "data": {
      "text/plain": [
       "['chifoia_event_cross_reference_01012016.txt',\n",
       " 'chifoia_event_cross_reference_01012017.txt',\n",
       " 'chifoia_event_cross_reference_02012016.txt',\n",
       " 'chifoia_event_cross_reference_02012017.txt',\n",
       " 'chifoia_event_cross_reference_03012016.txt',\n",
       " 'chifoia_event_cross_reference_03012017.txt',\n",
       " 'chifoia_event_cross_reference_04012016.txt',\n",
       " 'chifoia_event_cross_reference_04012017.txt',\n",
       " 'chifoia_event_cross_reference_05012016.txt',\n",
       " 'chifoia_event_cross_reference_05012017.txt',\n",
       " 'chifoia_event_cross_reference_06012016.txt',\n",
       " 'chifoia_event_cross_reference_06012017.txt',\n",
       " 'chifoia_event_cross_reference_07012016.txt',\n",
       " 'chifoia_event_cross_reference_07012017.txt',\n",
       " 'chifoia_event_cross_reference_08012016.txt',\n",
       " 'chifoia_event_cross_reference_08012017.txt',\n",
       " 'chifoia_event_cross_reference_09012016.txt',\n",
       " 'chifoia_event_cross_reference_10012016.txt',\n",
       " 'chifoia_event_cross_reference_11012016.txt',\n",
       " 'chifoia_event_cross_reference_12012016.txt']"
      ]
     },
     "execution_count": 7,
     "metadata": {},
     "output_type": "execute_result"
    }
   ],
   "source": [
    "path = './911call/chifoia_event_cross_reference/'\n",
    "files= os.listdir(path)\n",
    "files"
   ]
  },
  {
   "cell_type": "code",
   "execution_count": 8,
   "metadata": {},
   "outputs": [
    {
     "name": "stdout",
     "output_type": "stream",
     "text": [
      "(104531, 3)\n",
      "(104531, 3)\n",
      "(108443, 3)\n",
      "(212974, 3)\n",
      "(100566, 3)\n",
      "(313540, 3)\n",
      "(101449, 3)\n",
      "(414989, 3)\n",
      "(119797, 3)\n",
      "(534786, 3)\n",
      "(110656, 3)\n",
      "(645442, 3)\n",
      "(118951, 3)\n",
      "(764393, 3)\n",
      "(123611, 3)\n",
      "(888004, 3)\n",
      "(142298, 3)\n",
      "(1030302, 3)\n",
      "(134278, 3)\n",
      "(1164580, 3)\n",
      "(148538, 3)\n",
      "(1313118, 3)\n",
      "(147597, 3)\n",
      "(1460715, 3)\n",
      "(153572, 3)\n",
      "(1614287, 3)\n",
      "(148486, 3)\n",
      "(1762773, 3)\n",
      "(146555, 3)\n",
      "(1909328, 3)\n",
      "(140818, 3)\n",
      "(2050146, 3)\n",
      "(137563, 3)\n",
      "(2187709, 3)\n",
      "(133154, 3)\n",
      "(2320863, 3)\n",
      "(119033, 3)\n",
      "(2439896, 3)\n",
      "(110035, 3)\n",
      "(2549931, 3)\n"
     ]
    }
   ],
   "source": [
    "for file in files:\n",
    "    pd_event_cross_reference_temp = pd.read_csv(path+file,sep=\"|\",skiprows=1,header=None)\n",
    "    pd_event_cross_reference_temp.columns = ['EVENTNUMBER', 'CROSSEVENTNUMBER', 'CROSSTYPEFLAG']\n",
    "    print(pd_event_cross_reference_temp.shape)\n",
    "    pd_event_cross_reference = pd.concat([pd_event_cross_reference,pd_event_cross_reference_temp])\n",
    "    print(pd_event_cross_reference.shape)"
   ]
  },
  {
   "cell_type": "code",
   "execution_count": 9,
   "metadata": {},
   "outputs": [
    {
     "data": {
      "text/html": [
       "<div>\n",
       "<style scoped>\n",
       "    .dataframe tbody tr th:only-of-type {\n",
       "        vertical-align: middle;\n",
       "    }\n",
       "\n",
       "    .dataframe tbody tr th {\n",
       "        vertical-align: top;\n",
       "    }\n",
       "\n",
       "    .dataframe thead th {\n",
       "        text-align: right;\n",
       "    }\n",
       "</style>\n",
       "<table border=\"1\" class=\"dataframe\">\n",
       "  <thead>\n",
       "    <tr style=\"text-align: right;\">\n",
       "      <th></th>\n",
       "      <th>EVENTNUMBER</th>\n",
       "      <th>CROSSEVENTNUMBER</th>\n",
       "      <th>CROSSTYPEFLAG</th>\n",
       "    </tr>\n",
       "  </thead>\n",
       "  <tbody>\n",
       "    <tr>\n",
       "      <th>0</th>\n",
       "      <td>1600100014</td>\n",
       "      <td>1600100162</td>\n",
       "      <td>DUP</td>\n",
       "    </tr>\n",
       "    <tr>\n",
       "      <th>1</th>\n",
       "      <td>1600100014</td>\n",
       "      <td>1600100436</td>\n",
       "      <td>DUP</td>\n",
       "    </tr>\n",
       "    <tr>\n",
       "      <th>2</th>\n",
       "      <td>1600100015</td>\n",
       "      <td>1536514749</td>\n",
       "      <td>DUP</td>\n",
       "    </tr>\n",
       "    <tr>\n",
       "      <th>3</th>\n",
       "      <td>1600100015</td>\n",
       "      <td>160010002</td>\n",
       "      <td>911</td>\n",
       "    </tr>\n",
       "    <tr>\n",
       "      <th>4</th>\n",
       "      <td>1600100017</td>\n",
       "      <td>160010003</td>\n",
       "      <td>911</td>\n",
       "    </tr>\n",
       "  </tbody>\n",
       "</table>\n",
       "</div>"
      ],
      "text/plain": [
       "   EVENTNUMBER  CROSSEVENTNUMBER CROSSTYPEFLAG\n",
       "0   1600100014        1600100162           DUP\n",
       "1   1600100014        1600100436           DUP\n",
       "2   1600100015        1536514749           DUP\n",
       "3   1600100015         160010002           911\n",
       "4   1600100017         160010003           911"
      ]
     },
     "execution_count": 9,
     "metadata": {},
     "output_type": "execute_result"
    }
   ],
   "source": [
    "pd_event_cross_reference.head()"
   ]
  },
  {
   "cell_type": "code",
   "execution_count": 10,
   "metadata": {},
   "outputs": [],
   "source": [
    "pd_event_cross_reference.to_csv('./911call/chifoia_event_cross_reference.csv')"
   ]
  },
  {
   "cell_type": "code",
   "execution_count": null,
   "metadata": {},
   "outputs": [],
   "source": []
  }
 ],
 "metadata": {
  "kernelspec": {
   "display_name": "Python 3",
   "language": "python",
   "name": "python3"
  },
  "language_info": {
   "codemirror_mode": {
    "name": "ipython",
    "version": 3
   },
   "file_extension": ".py",
   "mimetype": "text/x-python",
   "name": "python",
   "nbconvert_exporter": "python",
   "pygments_lexer": "ipython3",
   "version": "3.5.5"
  }
 },
 "nbformat": 4,
 "nbformat_minor": 2
}
