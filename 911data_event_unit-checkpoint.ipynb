{
 "cells": [
  {
   "cell_type": "code",
   "execution_count": 1,
   "metadata": {},
   "outputs": [],
   "source": [
    "import numpy as np\n",
    "import pandas as pd\n",
    "import os"
   ]
  },
  {
   "cell_type": "code",
   "execution_count": 2,
   "metadata": {},
   "outputs": [],
   "source": [
    "pd_temp = pd.read_csv('./911call/chifoia_unit_personnel_link/chifoia_unit_personnel_link_01012017.txt',sep=\"|\",skiprows=0,header=0)"
   ]
  },
  {
   "cell_type": "code",
   "execution_count": 3,
   "metadata": {},
   "outputs": [
    {
     "data": {
      "text/html": [
       "<div>\n",
       "<style scoped>\n",
       "    .dataframe tbody tr th:only-of-type {\n",
       "        vertical-align: middle;\n",
       "    }\n",
       "\n",
       "    .dataframe tbody tr th {\n",
       "        vertical-align: top;\n",
       "    }\n",
       "\n",
       "    .dataframe thead th {\n",
       "        text-align: right;\n",
       "    }\n",
       "</style>\n",
       "<table border=\"1\" class=\"dataframe\">\n",
       "  <thead>\n",
       "    <tr style=\"text-align: right;\">\n",
       "      <th></th>\n",
       "      <th>PROMPT PERSID</th>\n",
       "      <th>UNIT</th>\n",
       "      <th>UNITLOGONDATE</th>\n",
       "      <th>UNITLOGOFFDATE</th>\n",
       "    </tr>\n",
       "  </thead>\n",
       "  <tbody>\n",
       "    <tr>\n",
       "      <th>0</th>\n",
       "      <td>011</td>\n",
       "      <td>2293</td>\n",
       "      <td>01/11/2017 06:09:37</td>\n",
       "      <td>01/11/2017 14:07:44</td>\n",
       "    </tr>\n",
       "    <tr>\n",
       "      <th>1</th>\n",
       "      <td>10000</td>\n",
       "      <td>712</td>\n",
       "      <td>01/10/2017 16:07:15</td>\n",
       "      <td>01/10/2017 23:47:56</td>\n",
       "    </tr>\n",
       "    <tr>\n",
       "      <th>2</th>\n",
       "      <td>10000</td>\n",
       "      <td>726</td>\n",
       "      <td>01/09/2017 16:01:43</td>\n",
       "      <td>01/09/2017 23:53:09</td>\n",
       "    </tr>\n",
       "    <tr>\n",
       "      <th>3</th>\n",
       "      <td>10000</td>\n",
       "      <td>732</td>\n",
       "      <td>01/05/2017 16:08:52</td>\n",
       "      <td>01/05/2017 23:59:47</td>\n",
       "    </tr>\n",
       "    <tr>\n",
       "      <th>4</th>\n",
       "      <td>10000</td>\n",
       "      <td>732</td>\n",
       "      <td>01/11/2017 16:15:31</td>\n",
       "      <td>01/11/2017 23:28:23</td>\n",
       "    </tr>\n",
       "  </tbody>\n",
       "</table>\n",
       "</div>"
      ],
      "text/plain": [
       "  PROMPT PERSID  UNIT        UNITLOGONDATE       UNITLOGOFFDATE\n",
       "0           011  2293  01/11/2017 06:09:37  01/11/2017 14:07:44\n",
       "1         10000   712  01/10/2017 16:07:15  01/10/2017 23:47:56\n",
       "2         10000   726  01/09/2017 16:01:43  01/09/2017 23:53:09\n",
       "3         10000   732  01/05/2017 16:08:52  01/05/2017 23:59:47\n",
       "4         10000   732  01/11/2017 16:15:31  01/11/2017 23:28:23"
      ]
     },
     "execution_count": 3,
     "metadata": {},
     "output_type": "execute_result"
    }
   ],
   "source": [
    "pd_temp.head()"
   ]
  },
  {
   "cell_type": "code",
   "execution_count": 5,
   "metadata": {},
   "outputs": [
    {
     "data": {
      "text/plain": [
       "Index(['PROMPT PERSID', 'UNIT', 'UNITLOGONDATE', 'UNITLOGOFFDATE'], dtype='object')"
      ]
     },
     "execution_count": 5,
     "metadata": {},
     "output_type": "execute_result"
    }
   ],
   "source": [
    "pd_temp.columns "
   ]
  },
  {
   "cell_type": "code",
   "execution_count": 6,
   "metadata": {},
   "outputs": [
    {
     "data": {
      "text/html": [
       "<div>\n",
       "<style scoped>\n",
       "    .dataframe tbody tr th:only-of-type {\n",
       "        vertical-align: middle;\n",
       "    }\n",
       "\n",
       "    .dataframe tbody tr th {\n",
       "        vertical-align: top;\n",
       "    }\n",
       "\n",
       "    .dataframe thead th {\n",
       "        text-align: right;\n",
       "    }\n",
       "</style>\n",
       "<table border=\"1\" class=\"dataframe\">\n",
       "  <thead>\n",
       "    <tr style=\"text-align: right;\">\n",
       "      <th></th>\n",
       "      <th>PROMPT PERSID</th>\n",
       "      <th>UNIT</th>\n",
       "      <th>UNITLOGONDATE</th>\n",
       "      <th>UNITLOGOFFDATE</th>\n",
       "    </tr>\n",
       "  </thead>\n",
       "  <tbody>\n",
       "    <tr>\n",
       "      <th>0</th>\n",
       "      <td>011</td>\n",
       "      <td>2293</td>\n",
       "      <td>01/11/2017 06:09:37</td>\n",
       "      <td>01/11/2017 14:07:44</td>\n",
       "    </tr>\n",
       "    <tr>\n",
       "      <th>1</th>\n",
       "      <td>10000</td>\n",
       "      <td>712</td>\n",
       "      <td>01/10/2017 16:07:15</td>\n",
       "      <td>01/10/2017 23:47:56</td>\n",
       "    </tr>\n",
       "    <tr>\n",
       "      <th>2</th>\n",
       "      <td>10000</td>\n",
       "      <td>726</td>\n",
       "      <td>01/09/2017 16:01:43</td>\n",
       "      <td>01/09/2017 23:53:09</td>\n",
       "    </tr>\n",
       "    <tr>\n",
       "      <th>3</th>\n",
       "      <td>10000</td>\n",
       "      <td>732</td>\n",
       "      <td>01/05/2017 16:08:52</td>\n",
       "      <td>01/05/2017 23:59:47</td>\n",
       "    </tr>\n",
       "    <tr>\n",
       "      <th>4</th>\n",
       "      <td>10000</td>\n",
       "      <td>732</td>\n",
       "      <td>01/11/2017 16:15:31</td>\n",
       "      <td>01/11/2017 23:28:23</td>\n",
       "    </tr>\n",
       "  </tbody>\n",
       "</table>\n",
       "</div>"
      ],
      "text/plain": [
       "  PROMPT PERSID  UNIT        UNITLOGONDATE       UNITLOGOFFDATE\n",
       "0           011  2293  01/11/2017 06:09:37  01/11/2017 14:07:44\n",
       "1         10000   712  01/10/2017 16:07:15  01/10/2017 23:47:56\n",
       "2         10000   726  01/09/2017 16:01:43  01/09/2017 23:53:09\n",
       "3         10000   732  01/05/2017 16:08:52  01/05/2017 23:59:47\n",
       "4         10000   732  01/11/2017 16:15:31  01/11/2017 23:28:23"
      ]
     },
     "execution_count": 6,
     "metadata": {},
     "output_type": "execute_result"
    }
   ],
   "source": [
    "pd_temp.head()"
   ]
  },
  {
   "cell_type": "code",
   "execution_count": 7,
   "metadata": {},
   "outputs": [],
   "source": [
    "pdf = pd.DataFrame()"
   ]
  },
  {
   "cell_type": "code",
   "execution_count": 8,
   "metadata": {},
   "outputs": [
    {
     "data": {
      "text/plain": [
       "['chifoia_unit_personnel_link_01012016.txt',\n",
       " 'chifoia_unit_personnel_link_01012017.txt',\n",
       " 'chifoia_unit_personnel_link_02012016.txt',\n",
       " 'chifoia_unit_personnel_link_02012017.txt',\n",
       " 'chifoia_unit_personnel_link_03012016.txt',\n",
       " 'chifoia_unit_personnel_link_03012017.txt',\n",
       " 'chifoia_unit_personnel_link_04012016.txt',\n",
       " 'chifoia_unit_personnel_link_04012017.txt',\n",
       " 'chifoia_unit_personnel_link_05012016.txt',\n",
       " 'chifoia_unit_personnel_link_05012017.txt',\n",
       " 'chifoia_unit_personnel_link_06012016.txt',\n",
       " 'chifoia_unit_personnel_link_06012017.txt',\n",
       " 'chifoia_unit_personnel_link_07012016.txt',\n",
       " 'chifoia_unit_personnel_link_07012017.txt',\n",
       " 'chifoia_unit_personnel_link_08012016.txt',\n",
       " 'chifoia_unit_personnel_link_08012017.txt',\n",
       " 'chifoia_unit_personnel_link_09012016.txt',\n",
       " 'chifoia_unit_personnel_link_10012016.txt',\n",
       " 'chifoia_unit_personnel_link_11012016.txt',\n",
       " 'chifoia_unit_personnel_link_12012016.txt']"
      ]
     },
     "execution_count": 8,
     "metadata": {},
     "output_type": "execute_result"
    }
   ],
   "source": [
    "path = './911call/chifoia_unit_personnel_link/'\n",
    "files= os.listdir(path)\n",
    "files"
   ]
  },
  {
   "cell_type": "code",
   "execution_count": 9,
   "metadata": {},
   "outputs": [
    {
     "name": "stdout",
     "output_type": "stream",
     "text": [
      "(32660, 4)\n",
      "(32660, 4)\n",
      "(128523, 4)\n",
      "(161183, 4)\n",
      "(33258, 4)\n",
      "(194441, 4)\n",
      "(116579, 4)\n",
      "(311020, 4)\n",
      "(36382, 4)\n",
      "(347402, 4)\n",
      "(128447, 4)\n",
      "(475849, 4)\n",
      "(33747, 4)\n",
      "(509596, 4)\n",
      "(118321, 4)\n",
      "(627917, 4)\n",
      "(36224, 4)\n",
      "(664141, 4)\n",
      "(127855, 4)\n",
      "(791996, 4)\n",
      "(53775, 4)\n",
      "(845771, 4)\n",
      "(117992, 4)\n",
      "(963763, 4)\n",
      "(115109, 4)\n",
      "(1078872, 4)\n",
      "(124637, 4)\n",
      "(1203509, 4)\n",
      "(113313, 4)\n",
      "(1316822, 4)\n",
      "(123401, 4)\n",
      "(1440223, 4)\n",
      "(117620, 4)\n",
      "(1557843, 4)\n",
      "(120143, 4)\n",
      "(1677986, 4)\n",
      "(110869, 4)\n",
      "(1788855, 4)\n",
      "(110941, 4)\n",
      "(1899796, 4)\n"
     ]
    }
   ],
   "source": [
    "for file in files:\n",
    "    pd_temp = pd.read_csv(path+file,sep=\"|\",skiprows=1,header=None)\n",
    "    pd_temp.columns = ['PERSID', 'UNIT', 'UNITLOGONDATE', 'UNITLOGOFFDATE']\n",
    "    print(pd_temp.shape)\n",
    "    pdf = pd.concat([pdf,pd_temp])\n",
    "    print(pdf.shape)"
   ]
  },
  {
   "cell_type": "code",
   "execution_count": 10,
   "metadata": {},
   "outputs": [
    {
     "data": {
      "text/html": [
       "<div>\n",
       "<style scoped>\n",
       "    .dataframe tbody tr th:only-of-type {\n",
       "        vertical-align: middle;\n",
       "    }\n",
       "\n",
       "    .dataframe tbody tr th {\n",
       "        vertical-align: top;\n",
       "    }\n",
       "\n",
       "    .dataframe thead th {\n",
       "        text-align: right;\n",
       "    }\n",
       "</style>\n",
       "<table border=\"1\" class=\"dataframe\">\n",
       "  <thead>\n",
       "    <tr style=\"text-align: right;\">\n",
       "      <th></th>\n",
       "      <th>PERSID</th>\n",
       "      <th>UNIT</th>\n",
       "      <th>UNITLOGONDATE</th>\n",
       "      <th>UNITLOGOFFDATE</th>\n",
       "    </tr>\n",
       "  </thead>\n",
       "  <tbody>\n",
       "    <tr>\n",
       "      <th>0</th>\n",
       "      <td>10000</td>\n",
       "      <td>706DR</td>\n",
       "      <td>01/20/2016 21:53:22</td>\n",
       "      <td>01/20/2016 22:18:46</td>\n",
       "    </tr>\n",
       "    <tr>\n",
       "      <th>1</th>\n",
       "      <td>10000</td>\n",
       "      <td>706DR</td>\n",
       "      <td>01/21/2016 21:36:35</td>\n",
       "      <td>01/22/2016 03:42:36</td>\n",
       "    </tr>\n",
       "    <tr>\n",
       "      <th>2</th>\n",
       "      <td>10000</td>\n",
       "      <td>706DR</td>\n",
       "      <td>01/25/2016 21:40:55</td>\n",
       "      <td>01/26/2016 05:18:39</td>\n",
       "    </tr>\n",
       "    <tr>\n",
       "      <th>3</th>\n",
       "      <td>10000</td>\n",
       "      <td>706DR</td>\n",
       "      <td>01/26/2016 21:37:56</td>\n",
       "      <td>01/26/2016 22:01:49</td>\n",
       "    </tr>\n",
       "    <tr>\n",
       "      <th>4</th>\n",
       "      <td>10000</td>\n",
       "      <td>706DR</td>\n",
       "      <td>01/26/2016 23:05:20</td>\n",
       "      <td>01/27/2016 05:37:23</td>\n",
       "    </tr>\n",
       "  </tbody>\n",
       "</table>\n",
       "</div>"
      ],
      "text/plain": [
       "  PERSID   UNIT        UNITLOGONDATE       UNITLOGOFFDATE\n",
       "0  10000  706DR  01/20/2016 21:53:22  01/20/2016 22:18:46\n",
       "1  10000  706DR  01/21/2016 21:36:35  01/22/2016 03:42:36\n",
       "2  10000  706DR  01/25/2016 21:40:55  01/26/2016 05:18:39\n",
       "3  10000  706DR  01/26/2016 21:37:56  01/26/2016 22:01:49\n",
       "4  10000  706DR  01/26/2016 23:05:20  01/27/2016 05:37:23"
      ]
     },
     "execution_count": 10,
     "metadata": {},
     "output_type": "execute_result"
    }
   ],
   "source": [
    "pdf.head()"
   ]
  },
  {
   "cell_type": "code",
   "execution_count": 11,
   "metadata": {},
   "outputs": [],
   "source": [
    "pdf.to_csv('./911call/chifoia_unit_personnel_link.csv')"
   ]
  },
  {
   "cell_type": "code",
   "execution_count": null,
   "metadata": {},
   "outputs": [],
   "source": []
  }
 ],
 "metadata": {
  "kernelspec": {
   "display_name": "Python 3",
   "language": "python",
   "name": "python3"
  },
  "language_info": {
   "codemirror_mode": {
    "name": "ipython",
    "version": 3
   },
   "file_extension": ".py",
   "mimetype": "text/x-python",
   "name": "python",
   "nbconvert_exporter": "python",
   "pygments_lexer": "ipython3",
   "version": "3.5.5"
  }
 },
 "nbformat": 4,
 "nbformat_minor": 2
}
