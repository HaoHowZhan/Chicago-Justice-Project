{
 "cells": [
  {
   "cell_type": "code",
   "execution_count": 1,
   "metadata": {},
   "outputs": [],
   "source": [
    "import numpy as np\n",
    "import pandas as pd\n",
    "import os"
   ]
  },
  {
   "cell_type": "code",
   "execution_count": 2,
   "metadata": {},
   "outputs": [
    {
     "name": "stderr",
     "output_type": "stream",
     "text": [
      "D:\\ProgramData\\Anaconda3\\envs\\FinalProject\\lib\\site-packages\\IPython\\core\\interactiveshell.py:2728: DtypeWarning: Columns (6) have mixed types. Specify dtype option on import or set low_memory=False.\n",
      "  interactivity=interactivity, compiler=compiler, result=result)\n"
     ]
    }
   ],
   "source": [
    "pd_temp = pd.read_csv('./911call/other/chifoia_es_01012018.csv',skiprows=0,header=0)"
   ]
  },
  {
   "cell_type": "code",
   "execution_count": 3,
   "metadata": {},
   "outputs": [
    {
     "data": {
      "text/html": [
       "<div>\n",
       "<style scoped>\n",
       "    .dataframe tbody tr th:only-of-type {\n",
       "        vertical-align: middle;\n",
       "    }\n",
       "\n",
       "    .dataframe tbody tr th {\n",
       "        vertical-align: top;\n",
       "    }\n",
       "\n",
       "    .dataframe thead th {\n",
       "        text-align: right;\n",
       "    }\n",
       "</style>\n",
       "<table border=\"1\" class=\"dataframe\">\n",
       "  <thead>\n",
       "    <tr style=\"text-align: right;\">\n",
       "      <th></th>\n",
       "      <th>EVENTNUMBER</th>\n",
       "      <th>UNIT</th>\n",
       "      <th>UNAOCCCNT</th>\n",
       "      <th>OCCCNT</th>\n",
       "      <th>STATUSNAME</th>\n",
       "      <th>CREATIONDATE</th>\n",
       "      <th>OVERRIDEDATE</th>\n",
       "      <th>STACKEDFLAG</th>\n",
       "    </tr>\n",
       "  </thead>\n",
       "  <tbody>\n",
       "    <tr>\n",
       "      <th>0</th>\n",
       "      <td>1800100003</td>\n",
       "      <td>1723R</td>\n",
       "      <td>1</td>\n",
       "      <td>1</td>\n",
       "      <td>DIS</td>\n",
       "      <td>01/01/2018 00.00.38</td>\n",
       "      <td>NaN</td>\n",
       "      <td>NaN</td>\n",
       "    </tr>\n",
       "    <tr>\n",
       "      <th>1</th>\n",
       "      <td>1800100003</td>\n",
       "      <td>1723R</td>\n",
       "      <td>1</td>\n",
       "      <td>2</td>\n",
       "      <td>ACK</td>\n",
       "      <td>01/01/2018 00.02.15</td>\n",
       "      <td>NaN</td>\n",
       "      <td>NaN</td>\n",
       "    </tr>\n",
       "    <tr>\n",
       "      <th>2</th>\n",
       "      <td>1800100003</td>\n",
       "      <td>1723R</td>\n",
       "      <td>1</td>\n",
       "      <td>3</td>\n",
       "      <td>ENR</td>\n",
       "      <td>01/01/2018 00.02.34</td>\n",
       "      <td>NaN</td>\n",
       "      <td>NaN</td>\n",
       "    </tr>\n",
       "    <tr>\n",
       "      <th>3</th>\n",
       "      <td>1800100003</td>\n",
       "      <td>1723R</td>\n",
       "      <td>1</td>\n",
       "      <td>4</td>\n",
       "      <td>ONS</td>\n",
       "      <td>NaN</td>\n",
       "      <td>NaN</td>\n",
       "      <td>NaN</td>\n",
       "    </tr>\n",
       "    <tr>\n",
       "      <th>4</th>\n",
       "      <td>1800100003</td>\n",
       "      <td>1723R</td>\n",
       "      <td>1</td>\n",
       "      <td>5</td>\n",
       "      <td>AV</td>\n",
       "      <td>01/01/2018 00.48.09</td>\n",
       "      <td>NaN</td>\n",
       "      <td>NaN</td>\n",
       "    </tr>\n",
       "  </tbody>\n",
       "</table>\n",
       "</div>"
      ],
      "text/plain": [
       "   EVENTNUMBER   UNIT  UNAOCCCNT  OCCCNT STATUSNAME         CREATIONDATE  \\\n",
       "0   1800100003  1723R          1       1        DIS  01/01/2018 00.00.38   \n",
       "1   1800100003  1723R          1       2        ACK  01/01/2018 00.02.15   \n",
       "2   1800100003  1723R          1       3        ENR  01/01/2018 00.02.34   \n",
       "3   1800100003  1723R          1       4        ONS                  NaN   \n",
       "4   1800100003  1723R          1       5         AV  01/01/2018 00.48.09   \n",
       "\n",
       "  OVERRIDEDATE  STACKEDFLAG  \n",
       "0          NaN          NaN  \n",
       "1          NaN          NaN  \n",
       "2          NaN          NaN  \n",
       "3          NaN          NaN  \n",
       "4          NaN          NaN  "
      ]
     },
     "execution_count": 3,
     "metadata": {},
     "output_type": "execute_result"
    }
   ],
   "source": [
    "pd_temp.head()"
   ]
  },
  {
   "cell_type": "code",
   "execution_count": 4,
   "metadata": {},
   "outputs": [
    {
     "data": {
      "text/plain": [
       "Index(['EVENTNUMBER', 'UNIT', 'UNAOCCCNT', 'OCCCNT', 'STATUSNAME',\n",
       "       'CREATIONDATE', 'OVERRIDEDATE', 'STACKEDFLAG'],\n",
       "      dtype='object')"
      ]
     },
     "execution_count": 4,
     "metadata": {},
     "output_type": "execute_result"
    }
   ],
   "source": [
    "pd_temp.columns "
   ]
  },
  {
   "cell_type": "code",
   "execution_count": 5,
   "metadata": {},
   "outputs": [
    {
     "data": {
      "text/html": [
       "<div>\n",
       "<style scoped>\n",
       "    .dataframe tbody tr th:only-of-type {\n",
       "        vertical-align: middle;\n",
       "    }\n",
       "\n",
       "    .dataframe tbody tr th {\n",
       "        vertical-align: top;\n",
       "    }\n",
       "\n",
       "    .dataframe thead th {\n",
       "        text-align: right;\n",
       "    }\n",
       "</style>\n",
       "<table border=\"1\" class=\"dataframe\">\n",
       "  <thead>\n",
       "    <tr style=\"text-align: right;\">\n",
       "      <th></th>\n",
       "      <th>EVENTNUMBER</th>\n",
       "      <th>UNIT</th>\n",
       "      <th>UNAOCCCNT</th>\n",
       "      <th>OCCCNT</th>\n",
       "      <th>STATUSNAME</th>\n",
       "      <th>CREATIONDATE</th>\n",
       "      <th>OVERRIDEDATE</th>\n",
       "      <th>STACKEDFLAG</th>\n",
       "    </tr>\n",
       "  </thead>\n",
       "  <tbody>\n",
       "    <tr>\n",
       "      <th>0</th>\n",
       "      <td>1800100003</td>\n",
       "      <td>1723R</td>\n",
       "      <td>1</td>\n",
       "      <td>1</td>\n",
       "      <td>DIS</td>\n",
       "      <td>01/01/2018 00.00.38</td>\n",
       "      <td>NaN</td>\n",
       "      <td>NaN</td>\n",
       "    </tr>\n",
       "    <tr>\n",
       "      <th>1</th>\n",
       "      <td>1800100003</td>\n",
       "      <td>1723R</td>\n",
       "      <td>1</td>\n",
       "      <td>2</td>\n",
       "      <td>ACK</td>\n",
       "      <td>01/01/2018 00.02.15</td>\n",
       "      <td>NaN</td>\n",
       "      <td>NaN</td>\n",
       "    </tr>\n",
       "    <tr>\n",
       "      <th>2</th>\n",
       "      <td>1800100003</td>\n",
       "      <td>1723R</td>\n",
       "      <td>1</td>\n",
       "      <td>3</td>\n",
       "      <td>ENR</td>\n",
       "      <td>01/01/2018 00.02.34</td>\n",
       "      <td>NaN</td>\n",
       "      <td>NaN</td>\n",
       "    </tr>\n",
       "    <tr>\n",
       "      <th>3</th>\n",
       "      <td>1800100003</td>\n",
       "      <td>1723R</td>\n",
       "      <td>1</td>\n",
       "      <td>4</td>\n",
       "      <td>ONS</td>\n",
       "      <td>NaN</td>\n",
       "      <td>NaN</td>\n",
       "      <td>NaN</td>\n",
       "    </tr>\n",
       "    <tr>\n",
       "      <th>4</th>\n",
       "      <td>1800100003</td>\n",
       "      <td>1723R</td>\n",
       "      <td>1</td>\n",
       "      <td>5</td>\n",
       "      <td>AV</td>\n",
       "      <td>01/01/2018 00.48.09</td>\n",
       "      <td>NaN</td>\n",
       "      <td>NaN</td>\n",
       "    </tr>\n",
       "  </tbody>\n",
       "</table>\n",
       "</div>"
      ],
      "text/plain": [
       "   EVENTNUMBER   UNIT  UNAOCCCNT  OCCCNT STATUSNAME         CREATIONDATE  \\\n",
       "0   1800100003  1723R          1       1        DIS  01/01/2018 00.00.38   \n",
       "1   1800100003  1723R          1       2        ACK  01/01/2018 00.02.15   \n",
       "2   1800100003  1723R          1       3        ENR  01/01/2018 00.02.34   \n",
       "3   1800100003  1723R          1       4        ONS                  NaN   \n",
       "4   1800100003  1723R          1       5         AV  01/01/2018 00.48.09   \n",
       "\n",
       "  OVERRIDEDATE  STACKEDFLAG  \n",
       "0          NaN          NaN  \n",
       "1          NaN          NaN  \n",
       "2          NaN          NaN  \n",
       "3          NaN          NaN  \n",
       "4          NaN          NaN  "
      ]
     },
     "execution_count": 5,
     "metadata": {},
     "output_type": "execute_result"
    }
   ],
   "source": [
    "pd_temp.head()"
   ]
  },
  {
   "cell_type": "code",
   "execution_count": 6,
   "metadata": {},
   "outputs": [],
   "source": [
    "pdf = pd.DataFrame()"
   ]
  },
  {
   "cell_type": "code",
   "execution_count": 7,
   "metadata": {},
   "outputs": [
    {
     "data": {
      "text/plain": [
       "['chifoia_eu_01012018.csv',\n",
       " 'chifoia_eu_02012018.csv',\n",
       " 'chifoia_eu_03012018.csv',\n",
       " 'chifoia_eu_04012018.csv',\n",
       " 'chifoia_eu_09012017.csv',\n",
       " 'chifoia_eu_10012017.csv',\n",
       " 'chifoia_eu_11012017.csv',\n",
       " 'chifoia_eu_12012017.csv']"
      ]
     },
     "execution_count": 7,
     "metadata": {},
     "output_type": "execute_result"
    }
   ],
   "source": [
    "path = './911call/chifoia_event_unit/other/'\n",
    "files= os.listdir(path)\n",
    "files"
   ]
  },
  {
   "cell_type": "code",
   "execution_count": 8,
   "metadata": {},
   "outputs": [
    {
     "name": "stderr",
     "output_type": "stream",
     "text": [
      "D:\\ProgramData\\Anaconda3\\envs\\FinalProject\\lib\\site-packages\\IPython\\core\\interactiveshell.py:2728: DtypeWarning: Columns (6) have mixed types. Specify dtype option on import or set low_memory=False.\n",
      "  interactivity=interactivity, compiler=compiler, result=result)\n"
     ]
    },
    {
     "name": "stdout",
     "output_type": "stream",
     "text": [
      "(578529, 8)\n",
      "(578529, 8)\n",
      "(532036, 8)\n",
      "(1110565, 8)\n",
      "(633572, 8)\n",
      "(1744137, 8)\n",
      "(627118, 8)\n",
      "(2371255, 8)\n",
      "(646180, 8)\n",
      "(3017435, 8)\n",
      "(628155, 8)\n",
      "(3645590, 8)\n",
      "(585540, 8)\n",
      "(4231130, 8)\n",
      "(600257, 8)\n",
      "(4831387, 8)\n"
     ]
    }
   ],
   "source": [
    "for file in files:\n",
    "    pd_temp = pd.read_csv(path+file,skiprows=1,header=None)\n",
    "    pd_temp.columns = ['EVENTNUMBER', 'UNIT', 'UNAOCCCNT', 'OCCCNT', 'STATUSNAME',\n",
    "       'CREATIONDATE', 'OVERRIDEDATE', 'STACKEDFLAG']\n",
    "    print(pd_temp.shape)\n",
    "    pdf = pd.concat([pdf,pd_temp])\n",
    "    print(pdf.shape)"
   ]
  },
  {
   "cell_type": "code",
   "execution_count": 9,
   "metadata": {},
   "outputs": [
    {
     "data": {
      "text/html": [
       "<div>\n",
       "<style scoped>\n",
       "    .dataframe tbody tr th:only-of-type {\n",
       "        vertical-align: middle;\n",
       "    }\n",
       "\n",
       "    .dataframe tbody tr th {\n",
       "        vertical-align: top;\n",
       "    }\n",
       "\n",
       "    .dataframe thead th {\n",
       "        text-align: right;\n",
       "    }\n",
       "</style>\n",
       "<table border=\"1\" class=\"dataframe\">\n",
       "  <thead>\n",
       "    <tr style=\"text-align: right;\">\n",
       "      <th></th>\n",
       "      <th>EVENTNUMBER</th>\n",
       "      <th>UNIT</th>\n",
       "      <th>UNAOCCCNT</th>\n",
       "      <th>OCCCNT</th>\n",
       "      <th>STATUSNAME</th>\n",
       "      <th>CREATIONDATE</th>\n",
       "      <th>OVERRIDEDATE</th>\n",
       "      <th>STACKEDFLAG</th>\n",
       "    </tr>\n",
       "  </thead>\n",
       "  <tbody>\n",
       "    <tr>\n",
       "      <th>0</th>\n",
       "      <td>1800100003</td>\n",
       "      <td>1723R</td>\n",
       "      <td>1</td>\n",
       "      <td>1</td>\n",
       "      <td>DIS</td>\n",
       "      <td>01/01/2018 00.00.38</td>\n",
       "      <td>NaN</td>\n",
       "      <td>NaN</td>\n",
       "    </tr>\n",
       "    <tr>\n",
       "      <th>1</th>\n",
       "      <td>1800100003</td>\n",
       "      <td>1723R</td>\n",
       "      <td>1</td>\n",
       "      <td>2</td>\n",
       "      <td>ACK</td>\n",
       "      <td>01/01/2018 00.02.15</td>\n",
       "      <td>NaN</td>\n",
       "      <td>NaN</td>\n",
       "    </tr>\n",
       "    <tr>\n",
       "      <th>2</th>\n",
       "      <td>1800100003</td>\n",
       "      <td>1723R</td>\n",
       "      <td>1</td>\n",
       "      <td>3</td>\n",
       "      <td>ENR</td>\n",
       "      <td>01/01/2018 00.02.34</td>\n",
       "      <td>NaN</td>\n",
       "      <td>NaN</td>\n",
       "    </tr>\n",
       "    <tr>\n",
       "      <th>3</th>\n",
       "      <td>1800100003</td>\n",
       "      <td>1723R</td>\n",
       "      <td>1</td>\n",
       "      <td>4</td>\n",
       "      <td>ONS</td>\n",
       "      <td>NaN</td>\n",
       "      <td>NaN</td>\n",
       "      <td>NaN</td>\n",
       "    </tr>\n",
       "    <tr>\n",
       "      <th>4</th>\n",
       "      <td>1800100003</td>\n",
       "      <td>1723R</td>\n",
       "      <td>1</td>\n",
       "      <td>5</td>\n",
       "      <td>AV</td>\n",
       "      <td>01/01/2018 00.48.09</td>\n",
       "      <td>NaN</td>\n",
       "      <td>NaN</td>\n",
       "    </tr>\n",
       "  </tbody>\n",
       "</table>\n",
       "</div>"
      ],
      "text/plain": [
       "   EVENTNUMBER   UNIT  UNAOCCCNT  OCCCNT STATUSNAME         CREATIONDATE  \\\n",
       "0   1800100003  1723R          1       1        DIS  01/01/2018 00.00.38   \n",
       "1   1800100003  1723R          1       2        ACK  01/01/2018 00.02.15   \n",
       "2   1800100003  1723R          1       3        ENR  01/01/2018 00.02.34   \n",
       "3   1800100003  1723R          1       4        ONS                  NaN   \n",
       "4   1800100003  1723R          1       5         AV  01/01/2018 00.48.09   \n",
       "\n",
       "  OVERRIDEDATE  STACKEDFLAG  \n",
       "0          NaN          NaN  \n",
       "1          NaN          NaN  \n",
       "2          NaN          NaN  \n",
       "3          NaN          NaN  \n",
       "4          NaN          NaN  "
      ]
     },
     "execution_count": 9,
     "metadata": {},
     "output_type": "execute_result"
    }
   ],
   "source": [
    "pdf.head()"
   ]
  },
  {
   "cell_type": "code",
   "execution_count": 10,
   "metadata": {},
   "outputs": [],
   "source": [
    "pdf.CREATIONDATE = pd.to_datetime(pdf.CREATIONDATE, format='%m/%d/%Y %H.%M.%S',errors='coerce')"
   ]
  },
  {
   "cell_type": "code",
   "execution_count": 11,
   "metadata": {},
   "outputs": [],
   "source": [
    "pdf.OVERRIDEDATE = pd.to_datetime(pdf.OVERRIDEDATE, format='%m/%d/%Y %H.%M.%S',errors='coerce')"
   ]
  },
  {
   "cell_type": "code",
   "execution_count": 12,
   "metadata": {},
   "outputs": [],
   "source": [
    "pdf.to_csv('./911call/chifoia_event_unit_other.csv')"
   ]
  },
  {
   "cell_type": "code",
   "execution_count": 13,
   "metadata": {},
   "outputs": [
    {
     "data": {
      "text/html": [
       "<div>\n",
       "<style scoped>\n",
       "    .dataframe tbody tr th:only-of-type {\n",
       "        vertical-align: middle;\n",
       "    }\n",
       "\n",
       "    .dataframe tbody tr th {\n",
       "        vertical-align: top;\n",
       "    }\n",
       "\n",
       "    .dataframe thead th {\n",
       "        text-align: right;\n",
       "    }\n",
       "</style>\n",
       "<table border=\"1\" class=\"dataframe\">\n",
       "  <thead>\n",
       "    <tr style=\"text-align: right;\">\n",
       "      <th></th>\n",
       "      <th>EVENTNUMBER</th>\n",
       "      <th>UNIT</th>\n",
       "      <th>UNAOCCCNT</th>\n",
       "      <th>OCCCNT</th>\n",
       "      <th>STATUSNAME</th>\n",
       "      <th>CREATIONDATE</th>\n",
       "      <th>OVERRIDEDATE</th>\n",
       "      <th>STACKEDFLAG</th>\n",
       "    </tr>\n",
       "  </thead>\n",
       "  <tbody>\n",
       "    <tr>\n",
       "      <th>0</th>\n",
       "      <td>1800100003</td>\n",
       "      <td>1723R</td>\n",
       "      <td>1</td>\n",
       "      <td>1</td>\n",
       "      <td>DIS</td>\n",
       "      <td>2018-01-01 00:00:38</td>\n",
       "      <td>NaT</td>\n",
       "      <td>NaN</td>\n",
       "    </tr>\n",
       "    <tr>\n",
       "      <th>1</th>\n",
       "      <td>1800100003</td>\n",
       "      <td>1723R</td>\n",
       "      <td>1</td>\n",
       "      <td>2</td>\n",
       "      <td>ACK</td>\n",
       "      <td>2018-01-01 00:02:15</td>\n",
       "      <td>NaT</td>\n",
       "      <td>NaN</td>\n",
       "    </tr>\n",
       "    <tr>\n",
       "      <th>2</th>\n",
       "      <td>1800100003</td>\n",
       "      <td>1723R</td>\n",
       "      <td>1</td>\n",
       "      <td>3</td>\n",
       "      <td>ENR</td>\n",
       "      <td>2018-01-01 00:02:34</td>\n",
       "      <td>NaT</td>\n",
       "      <td>NaN</td>\n",
       "    </tr>\n",
       "    <tr>\n",
       "      <th>3</th>\n",
       "      <td>1800100003</td>\n",
       "      <td>1723R</td>\n",
       "      <td>1</td>\n",
       "      <td>4</td>\n",
       "      <td>ONS</td>\n",
       "      <td>NaT</td>\n",
       "      <td>NaT</td>\n",
       "      <td>NaN</td>\n",
       "    </tr>\n",
       "    <tr>\n",
       "      <th>4</th>\n",
       "      <td>1800100003</td>\n",
       "      <td>1723R</td>\n",
       "      <td>1</td>\n",
       "      <td>5</td>\n",
       "      <td>AV</td>\n",
       "      <td>2018-01-01 00:48:09</td>\n",
       "      <td>NaT</td>\n",
       "      <td>NaN</td>\n",
       "    </tr>\n",
       "  </tbody>\n",
       "</table>\n",
       "</div>"
      ],
      "text/plain": [
       "   EVENTNUMBER   UNIT  UNAOCCCNT  OCCCNT STATUSNAME        CREATIONDATE  \\\n",
       "0   1800100003  1723R          1       1        DIS 2018-01-01 00:00:38   \n",
       "1   1800100003  1723R          1       2        ACK 2018-01-01 00:02:15   \n",
       "2   1800100003  1723R          1       3        ENR 2018-01-01 00:02:34   \n",
       "3   1800100003  1723R          1       4        ONS                 NaT   \n",
       "4   1800100003  1723R          1       5         AV 2018-01-01 00:48:09   \n",
       "\n",
       "  OVERRIDEDATE  STACKEDFLAG  \n",
       "0          NaT          NaN  \n",
       "1          NaT          NaN  \n",
       "2          NaT          NaN  \n",
       "3          NaT          NaN  \n",
       "4          NaT          NaN  "
      ]
     },
     "execution_count": 13,
     "metadata": {},
     "output_type": "execute_result"
    }
   ],
   "source": [
    "pdf.head()"
   ]
  },
  {
   "cell_type": "code",
   "execution_count": null,
   "metadata": {},
   "outputs": [],
   "source": []
  }
 ],
 "metadata": {
  "kernelspec": {
   "display_name": "Python 3",
   "language": "python",
   "name": "python3"
  },
  "language_info": {
   "codemirror_mode": {
    "name": "ipython",
    "version": 3
   },
   "file_extension": ".py",
   "mimetype": "text/x-python",
   "name": "python",
   "nbconvert_exporter": "python",
   "pygments_lexer": "ipython3",
   "version": "3.5.5"
  }
 },
 "nbformat": 4,
 "nbformat_minor": 2
}
