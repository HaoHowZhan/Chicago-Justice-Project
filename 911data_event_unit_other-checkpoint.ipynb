{
 "cells": [
  {
   "cell_type": "code",
   "execution_count": 1,
   "metadata": {},
   "outputs": [],
   "source": [
    "import numpy as np\n",
    "import pandas as pd\n",
    "import os"
   ]
  },
  {
   "cell_type": "code",
   "execution_count": 2,
   "metadata": {},
   "outputs": [],
   "source": [
    "pd_temp = pd.read_csv('./911call/chifoia_event_unit/chifoia_event_unit_01012017.txt',sep=\"|\",skiprows=0,header=0)"
   ]
  },
  {
   "cell_type": "code",
   "execution_count": 3,
   "metadata": {},
   "outputs": [
    {
     "data": {
      "text/html": [
       "<div>\n",
       "<style scoped>\n",
       "    .dataframe tbody tr th:only-of-type {\n",
       "        vertical-align: middle;\n",
       "    }\n",
       "\n",
       "    .dataframe tbody tr th {\n",
       "        vertical-align: top;\n",
       "    }\n",
       "\n",
       "    .dataframe thead th {\n",
       "        text-align: right;\n",
       "    }\n",
       "</style>\n",
       "<table border=\"1\" class=\"dataframe\">\n",
       "  <thead>\n",
       "    <tr style=\"text-align: right;\">\n",
       "      <th></th>\n",
       "      <th>PROMPT EVENTNUMBER</th>\n",
       "      <th>UNIT</th>\n",
       "      <th>UNAOCCCNT</th>\n",
       "      <th>OCCCNT</th>\n",
       "      <th>STATUSNAME</th>\n",
       "      <th>CREATIONDATE</th>\n",
       "      <th>OVERRIDEDATE</th>\n",
       "      <th>STACKEDFLAG</th>\n",
       "    </tr>\n",
       "  </thead>\n",
       "  <tbody>\n",
       "    <tr>\n",
       "      <th>0</th>\n",
       "      <td>1700100002</td>\n",
       "      <td>4114A</td>\n",
       "      <td>1</td>\n",
       "      <td>1</td>\n",
       "      <td>DIS</td>\n",
       "      <td>01/01/2017 00:00:08</td>\n",
       "      <td>NaN</td>\n",
       "      <td>NaN</td>\n",
       "    </tr>\n",
       "    <tr>\n",
       "      <th>1</th>\n",
       "      <td>1700100002</td>\n",
       "      <td>4114A</td>\n",
       "      <td>1</td>\n",
       "      <td>2</td>\n",
       "      <td>ONS</td>\n",
       "      <td>01/01/2017 00:00:08</td>\n",
       "      <td>NaN</td>\n",
       "      <td>NaN</td>\n",
       "    </tr>\n",
       "    <tr>\n",
       "      <th>2</th>\n",
       "      <td>1700100002</td>\n",
       "      <td>4114A</td>\n",
       "      <td>1</td>\n",
       "      <td>3</td>\n",
       "      <td>AV</td>\n",
       "      <td>01/01/2017 00:06:28</td>\n",
       "      <td>NaN</td>\n",
       "      <td>NaN</td>\n",
       "    </tr>\n",
       "    <tr>\n",
       "      <th>3</th>\n",
       "      <td>1700100004</td>\n",
       "      <td>2200</td>\n",
       "      <td>3</td>\n",
       "      <td>1</td>\n",
       "      <td>DIS</td>\n",
       "      <td>01/01/2017 00:08:04</td>\n",
       "      <td>NaN</td>\n",
       "      <td>NaN</td>\n",
       "    </tr>\n",
       "    <tr>\n",
       "      <th>4</th>\n",
       "      <td>1700100004</td>\n",
       "      <td>2200</td>\n",
       "      <td>3</td>\n",
       "      <td>2</td>\n",
       "      <td>AV</td>\n",
       "      <td>01/01/2017 00:15:43</td>\n",
       "      <td>NaN</td>\n",
       "      <td>NaN</td>\n",
       "    </tr>\n",
       "  </tbody>\n",
       "</table>\n",
       "</div>"
      ],
      "text/plain": [
       "   PROMPT EVENTNUMBER   UNIT  UNAOCCCNT  OCCCNT STATUSNAME  \\\n",
       "0          1700100002  4114A          1       1        DIS   \n",
       "1          1700100002  4114A          1       2        ONS   \n",
       "2          1700100002  4114A          1       3         AV   \n",
       "3          1700100004   2200          3       1        DIS   \n",
       "4          1700100004   2200          3       2         AV   \n",
       "\n",
       "          CREATIONDATE  OVERRIDEDATE  STACKEDFLAG  \n",
       "0  01/01/2017 00:00:08           NaN          NaN  \n",
       "1  01/01/2017 00:00:08           NaN          NaN  \n",
       "2  01/01/2017 00:06:28           NaN          NaN  \n",
       "3  01/01/2017 00:08:04           NaN          NaN  \n",
       "4  01/01/2017 00:15:43           NaN          NaN  "
      ]
     },
     "execution_count": 3,
     "metadata": {},
     "output_type": "execute_result"
    }
   ],
   "source": [
    "pd_temp.head()"
   ]
  },
  {
   "cell_type": "code",
   "execution_count": 4,
   "metadata": {},
   "outputs": [
    {
     "data": {
      "text/plain": [
       "Index(['PROMPT EVENTNUMBER', 'UNIT', 'UNAOCCCNT', 'OCCCNT', 'STATUSNAME',\n",
       "       'CREATIONDATE', 'OVERRIDEDATE', 'STACKEDFLAG'],\n",
       "      dtype='object')"
      ]
     },
     "execution_count": 4,
     "metadata": {},
     "output_type": "execute_result"
    }
   ],
   "source": [
    "pd_temp.columns "
   ]
  },
  {
   "cell_type": "code",
   "execution_count": 5,
   "metadata": {},
   "outputs": [
    {
     "data": {
      "text/html": [
       "<div>\n",
       "<style scoped>\n",
       "    .dataframe tbody tr th:only-of-type {\n",
       "        vertical-align: middle;\n",
       "    }\n",
       "\n",
       "    .dataframe tbody tr th {\n",
       "        vertical-align: top;\n",
       "    }\n",
       "\n",
       "    .dataframe thead th {\n",
       "        text-align: right;\n",
       "    }\n",
       "</style>\n",
       "<table border=\"1\" class=\"dataframe\">\n",
       "  <thead>\n",
       "    <tr style=\"text-align: right;\">\n",
       "      <th></th>\n",
       "      <th>PROMPT EVENTNUMBER</th>\n",
       "      <th>UNIT</th>\n",
       "      <th>UNAOCCCNT</th>\n",
       "      <th>OCCCNT</th>\n",
       "      <th>STATUSNAME</th>\n",
       "      <th>CREATIONDATE</th>\n",
       "      <th>OVERRIDEDATE</th>\n",
       "      <th>STACKEDFLAG</th>\n",
       "    </tr>\n",
       "  </thead>\n",
       "  <tbody>\n",
       "    <tr>\n",
       "      <th>0</th>\n",
       "      <td>1700100002</td>\n",
       "      <td>4114A</td>\n",
       "      <td>1</td>\n",
       "      <td>1</td>\n",
       "      <td>DIS</td>\n",
       "      <td>01/01/2017 00:00:08</td>\n",
       "      <td>NaN</td>\n",
       "      <td>NaN</td>\n",
       "    </tr>\n",
       "    <tr>\n",
       "      <th>1</th>\n",
       "      <td>1700100002</td>\n",
       "      <td>4114A</td>\n",
       "      <td>1</td>\n",
       "      <td>2</td>\n",
       "      <td>ONS</td>\n",
       "      <td>01/01/2017 00:00:08</td>\n",
       "      <td>NaN</td>\n",
       "      <td>NaN</td>\n",
       "    </tr>\n",
       "    <tr>\n",
       "      <th>2</th>\n",
       "      <td>1700100002</td>\n",
       "      <td>4114A</td>\n",
       "      <td>1</td>\n",
       "      <td>3</td>\n",
       "      <td>AV</td>\n",
       "      <td>01/01/2017 00:06:28</td>\n",
       "      <td>NaN</td>\n",
       "      <td>NaN</td>\n",
       "    </tr>\n",
       "    <tr>\n",
       "      <th>3</th>\n",
       "      <td>1700100004</td>\n",
       "      <td>2200</td>\n",
       "      <td>3</td>\n",
       "      <td>1</td>\n",
       "      <td>DIS</td>\n",
       "      <td>01/01/2017 00:08:04</td>\n",
       "      <td>NaN</td>\n",
       "      <td>NaN</td>\n",
       "    </tr>\n",
       "    <tr>\n",
       "      <th>4</th>\n",
       "      <td>1700100004</td>\n",
       "      <td>2200</td>\n",
       "      <td>3</td>\n",
       "      <td>2</td>\n",
       "      <td>AV</td>\n",
       "      <td>01/01/2017 00:15:43</td>\n",
       "      <td>NaN</td>\n",
       "      <td>NaN</td>\n",
       "    </tr>\n",
       "  </tbody>\n",
       "</table>\n",
       "</div>"
      ],
      "text/plain": [
       "   PROMPT EVENTNUMBER   UNIT  UNAOCCCNT  OCCCNT STATUSNAME  \\\n",
       "0          1700100002  4114A          1       1        DIS   \n",
       "1          1700100002  4114A          1       2        ONS   \n",
       "2          1700100002  4114A          1       3         AV   \n",
       "3          1700100004   2200          3       1        DIS   \n",
       "4          1700100004   2200          3       2         AV   \n",
       "\n",
       "          CREATIONDATE  OVERRIDEDATE  STACKEDFLAG  \n",
       "0  01/01/2017 00:00:08           NaN          NaN  \n",
       "1  01/01/2017 00:00:08           NaN          NaN  \n",
       "2  01/01/2017 00:06:28           NaN          NaN  \n",
       "3  01/01/2017 00:08:04           NaN          NaN  \n",
       "4  01/01/2017 00:15:43           NaN          NaN  "
      ]
     },
     "execution_count": 5,
     "metadata": {},
     "output_type": "execute_result"
    }
   ],
   "source": [
    "pd_temp.head()"
   ]
  },
  {
   "cell_type": "code",
   "execution_count": 7,
   "metadata": {},
   "outputs": [],
   "source": [
    "pdf = pd.DataFrame()"
   ]
  },
  {
   "cell_type": "code",
   "execution_count": 8,
   "metadata": {},
   "outputs": [
    {
     "data": {
      "text/plain": [
       "['chifoia_event_unit_01012016.txt',\n",
       " 'chifoia_event_unit_01012017.txt',\n",
       " 'chifoia_event_unit_02012016.txt',\n",
       " 'chifoia_event_unit_02012017.txt',\n",
       " 'chifoia_event_unit_03012016.txt',\n",
       " 'chifoia_event_unit_03012017.txt',\n",
       " 'chifoia_event_unit_04012016.txt',\n",
       " 'chifoia_event_unit_04012017.txt',\n",
       " 'chifoia_event_unit_05012016.txt',\n",
       " 'chifoia_event_unit_05012017.txt',\n",
       " 'chifoia_event_unit_06012016.txt',\n",
       " 'chifoia_event_unit_06012017.txt',\n",
       " 'chifoia_event_unit_07012016.txt',\n",
       " 'chifoia_event_unit_07012017.txt',\n",
       " 'chifoia_event_unit_08012016.txt',\n",
       " 'chifoia_event_unit_08012017.txt',\n",
       " 'chifoia_event_unit_09012016.txt',\n",
       " 'chifoia_event_unit_10012016.txt',\n",
       " 'chifoia_event_unit_11012016.txt',\n",
       " 'chifoia_event_unit_12012016.txt']"
      ]
     },
     "execution_count": 8,
     "metadata": {},
     "output_type": "execute_result"
    }
   ],
   "source": [
    "path = './911call/chifoia_event_unit/'\n",
    "files= os.listdir(path)\n",
    "files"
   ]
  },
  {
   "cell_type": "code",
   "execution_count": 9,
   "metadata": {},
   "outputs": [
    {
     "name": "stdout",
     "output_type": "stream",
     "text": [
      "(1175051, 8)\n",
      "(1175051, 8)\n",
      "(1312147, 8)\n",
      "(2487198, 8)\n",
      "(1165995, 8)\n",
      "(3653193, 8)\n",
      "(1250027, 8)\n",
      "(4903220, 8)\n"
     ]
    },
    {
     "name": "stderr",
     "output_type": "stream",
     "text": [
      "D:\\ProgramData\\Anaconda3\\envs\\FinalProject\\lib\\site-packages\\IPython\\core\\interactiveshell.py:2728: DtypeWarning: Columns (6) have mixed types. Specify dtype option on import or set low_memory=False.\n",
      "  interactivity=interactivity, compiler=compiler, result=result)\n"
     ]
    },
    {
     "name": "stdout",
     "output_type": "stream",
     "text": [
      "(1368302, 8)\n",
      "(6271522, 8)\n",
      "(1353222, 8)\n",
      "(7624744, 8)\n",
      "(1340871, 8)\n",
      "(8965615, 8)\n",
      "(1406833, 8)\n",
      "(10372448, 8)\n",
      "(1488101, 8)\n",
      "(11860549, 8)\n",
      "(1535644, 8)\n",
      "(13396193, 8)\n",
      "(1501260, 8)\n",
      "(14897453, 8)\n",
      "(1536295, 8)\n",
      "(16433748, 8)\n",
      "(1427570, 8)\n",
      "(17861318, 8)\n",
      "(1578770, 8)\n",
      "(19440088, 8)\n",
      "(1340741, 8)\n",
      "(20780829, 8)\n",
      "(1553812, 8)\n",
      "(22334641, 8)\n",
      "(1397822, 8)\n",
      "(23732463, 8)\n",
      "(1402215, 8)\n",
      "(25134678, 8)\n",
      "(1243989, 8)\n",
      "(26378667, 8)\n",
      "(1172931, 8)\n",
      "(27551598, 8)\n"
     ]
    }
   ],
   "source": [
    "for file in files:\n",
    "    pd_temp = pd.read_csv(path+file,sep=\"|\",skiprows=1,header=None)\n",
    "    pd_temp.columns = ['EVENTNUMBER', 'UNIT', 'UNAOCCCNT', 'OCCCNT', 'STATUSNAME',\n",
    "       'CREATIONDATE', 'OVERRIDEDATE', 'STACKEDFLAG']\n",
    "    print(pd_temp.shape)\n",
    "    pdf = pd.concat([pdf,pd_temp])\n",
    "    print(pdf.shape)"
   ]
  },
  {
   "cell_type": "code",
   "execution_count": 10,
   "metadata": {},
   "outputs": [
    {
     "data": {
      "text/html": [
       "<div>\n",
       "<style scoped>\n",
       "    .dataframe tbody tr th:only-of-type {\n",
       "        vertical-align: middle;\n",
       "    }\n",
       "\n",
       "    .dataframe tbody tr th {\n",
       "        vertical-align: top;\n",
       "    }\n",
       "\n",
       "    .dataframe thead th {\n",
       "        text-align: right;\n",
       "    }\n",
       "</style>\n",
       "<table border=\"1\" class=\"dataframe\">\n",
       "  <thead>\n",
       "    <tr style=\"text-align: right;\">\n",
       "      <th></th>\n",
       "      <th>EVENTNUMBER</th>\n",
       "      <th>UNIT</th>\n",
       "      <th>UNAOCCCNT</th>\n",
       "      <th>OCCCNT</th>\n",
       "      <th>STATUSNAME</th>\n",
       "      <th>CREATIONDATE</th>\n",
       "      <th>OVERRIDEDATE</th>\n",
       "      <th>STACKEDFLAG</th>\n",
       "    </tr>\n",
       "  </thead>\n",
       "  <tbody>\n",
       "    <tr>\n",
       "      <th>0</th>\n",
       "      <td>1600100001</td>\n",
       "      <td>2525R</td>\n",
       "      <td>1</td>\n",
       "      <td>1</td>\n",
       "      <td>DIS</td>\n",
       "      <td>01/01/2016 00:30:17</td>\n",
       "      <td>NaN</td>\n",
       "      <td>NaN</td>\n",
       "    </tr>\n",
       "    <tr>\n",
       "      <th>1</th>\n",
       "      <td>1600100001</td>\n",
       "      <td>2525R</td>\n",
       "      <td>1</td>\n",
       "      <td>2</td>\n",
       "      <td>ACK</td>\n",
       "      <td>01/01/2016 00:30:30</td>\n",
       "      <td>NaN</td>\n",
       "      <td>NaN</td>\n",
       "    </tr>\n",
       "    <tr>\n",
       "      <th>2</th>\n",
       "      <td>1600100001</td>\n",
       "      <td>2525R</td>\n",
       "      <td>1</td>\n",
       "      <td>3</td>\n",
       "      <td>ENR</td>\n",
       "      <td>01/01/2016 00:35:42</td>\n",
       "      <td>NaN</td>\n",
       "      <td>NaN</td>\n",
       "    </tr>\n",
       "    <tr>\n",
       "      <th>3</th>\n",
       "      <td>1600100001</td>\n",
       "      <td>2525R</td>\n",
       "      <td>1</td>\n",
       "      <td>4</td>\n",
       "      <td>ONS</td>\n",
       "      <td>01/01/2016 00:35:44</td>\n",
       "      <td>NaN</td>\n",
       "      <td>NaN</td>\n",
       "    </tr>\n",
       "    <tr>\n",
       "      <th>4</th>\n",
       "      <td>1600100001</td>\n",
       "      <td>2525R</td>\n",
       "      <td>1</td>\n",
       "      <td>5</td>\n",
       "      <td>AV</td>\n",
       "      <td>01/01/2016 00:39:10</td>\n",
       "      <td>NaN</td>\n",
       "      <td>NaN</td>\n",
       "    </tr>\n",
       "  </tbody>\n",
       "</table>\n",
       "</div>"
      ],
      "text/plain": [
       "   EVENTNUMBER   UNIT  UNAOCCCNT  OCCCNT STATUSNAME         CREATIONDATE  \\\n",
       "0   1600100001  2525R          1       1        DIS  01/01/2016 00:30:17   \n",
       "1   1600100001  2525R          1       2        ACK  01/01/2016 00:30:30   \n",
       "2   1600100001  2525R          1       3        ENR  01/01/2016 00:35:42   \n",
       "3   1600100001  2525R          1       4        ONS  01/01/2016 00:35:44   \n",
       "4   1600100001  2525R          1       5         AV  01/01/2016 00:39:10   \n",
       "\n",
       "  OVERRIDEDATE  STACKEDFLAG  \n",
       "0          NaN          NaN  \n",
       "1          NaN          NaN  \n",
       "2          NaN          NaN  \n",
       "3          NaN          NaN  \n",
       "4          NaN          NaN  "
      ]
     },
     "execution_count": 10,
     "metadata": {},
     "output_type": "execute_result"
    }
   ],
   "source": [
    "pdf.head()"
   ]
  },
  {
   "cell_type": "code",
   "execution_count": 11,
   "metadata": {},
   "outputs": [],
   "source": [
    "pdf.to_csv('./911call/chifoia_event_unit.csv')"
   ]
  },
  {
   "cell_type": "code",
   "execution_count": null,
   "metadata": {},
   "outputs": [],
   "source": []
  }
 ],
 "metadata": {
  "kernelspec": {
   "display_name": "Python 3",
   "language": "python",
   "name": "python3"
  },
  "language_info": {
   "codemirror_mode": {
    "name": "ipython",
    "version": 3
   },
   "file_extension": ".py",
   "mimetype": "text/x-python",
   "name": "python",
   "nbconvert_exporter": "python",
   "pygments_lexer": "ipython3",
   "version": "3.5.5"
  }
 },
 "nbformat": 4,
 "nbformat_minor": 2
}
