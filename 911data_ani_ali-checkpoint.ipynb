{
 "cells": [
  {
   "cell_type": "code",
   "execution_count": 1,
   "metadata": {},
   "outputs": [],
   "source": [
    "import numpy as np\n",
    "import pandas as pd\n",
    "import tensorflow as tf\n",
    "import os\n",
    "import pickle\n",
    "import re\n",
    "from collections import Counter\n",
    "from tensorflow.python.ops import math_ops\n",
    "import matplotlib.pyplot as plt\n",
    "import time\n",
    "import datetime"
   ]
  },
  {
   "cell_type": "code",
   "execution_count": 2,
   "metadata": {},
   "outputs": [
    {
     "name": "stderr",
     "output_type": "stream",
     "text": [
      "D:\\ProgramData\\Anaconda3\\envs\\FinalProject\\lib\\site-packages\\IPython\\core\\interactiveshell.py:2728: DtypeWarning: Columns (10) have mixed types. Specify dtype option on import or set low_memory=False.\n",
      "  interactivity=interactivity, compiler=compiler, result=result)\n"
     ]
    }
   ],
   "source": [
    "pd_ani_ali_temp = pd.read_csv('./911call/chifoia_event_ani_ali/chifoia_event_ani_ali_01012017.txt',sep=\"|\",skiprows=1,header=None)"
   ]
  },
  {
   "cell_type": "code",
   "execution_count": 3,
   "metadata": {},
   "outputs": [
    {
     "data": {
      "text/html": [
       "<div>\n",
       "<style scoped>\n",
       "    .dataframe tbody tr th:only-of-type {\n",
       "        vertical-align: middle;\n",
       "    }\n",
       "\n",
       "    .dataframe tbody tr th {\n",
       "        vertical-align: top;\n",
       "    }\n",
       "\n",
       "    .dataframe thead th {\n",
       "        text-align: right;\n",
       "    }\n",
       "</style>\n",
       "<table border=\"1\" class=\"dataframe\">\n",
       "  <thead>\n",
       "    <tr style=\"text-align: right;\">\n",
       "      <th></th>\n",
       "      <th>0</th>\n",
       "      <th>1</th>\n",
       "      <th>2</th>\n",
       "      <th>3</th>\n",
       "      <th>4</th>\n",
       "      <th>5</th>\n",
       "      <th>6</th>\n",
       "      <th>7</th>\n",
       "      <th>8</th>\n",
       "      <th>9</th>\n",
       "      <th>10</th>\n",
       "      <th>11</th>\n",
       "      <th>12</th>\n",
       "    </tr>\n",
       "  </thead>\n",
       "  <tbody>\n",
       "    <tr>\n",
       "      <th>0</th>\n",
       "      <td>94258027</td>\n",
       "      <td>01/01/2017 00:00:02</td>\n",
       "      <td>01/01/2017 00:00:00</td>\n",
       "      <td>754</td>\n",
       "      <td>C106878</td>\n",
       "      <td>PCT54</td>\n",
       "      <td>WPH1</td>\n",
       "      <td>NaN</td>\n",
       "      <td>B3049404408</td>\n",
       "      <td>ATTMO</td>\n",
       "      <td>-87.65683</td>\n",
       "      <td>+41.7047</td>\n",
       "      <td>3NE</td>\n",
       "    </tr>\n",
       "    <tr>\n",
       "      <th>1</th>\n",
       "      <td>94258028</td>\n",
       "      <td>01/01/2017 00:00:13</td>\n",
       "      <td>01/01/2017 00:00:00</td>\n",
       "      <td>766</td>\n",
       "      <td>C559895</td>\n",
       "      <td>PCT66</td>\n",
       "      <td>BUSN</td>\n",
       "      <td>NaN</td>\n",
       "      <td>B3049415564</td>\n",
       "      <td>AMTCH</td>\n",
       "      <td>NaN</td>\n",
       "      <td>NaN</td>\n",
       "      <td>NaN</td>\n",
       "    </tr>\n",
       "    <tr>\n",
       "      <th>2</th>\n",
       "      <td>94258029</td>\n",
       "      <td>01/01/2017 00:00:14</td>\n",
       "      <td>01/01/2017 00:00:00</td>\n",
       "      <td>835</td>\n",
       "      <td>C75741</td>\n",
       "      <td>PD125</td>\n",
       "      <td>WPH1</td>\n",
       "      <td>NaN</td>\n",
       "      <td>B3049415923</td>\n",
       "      <td>SPPCS</td>\n",
       "      <td>-87.6515</td>\n",
       "      <td>41.973083</td>\n",
       "      <td>-</td>\n",
       "    </tr>\n",
       "    <tr>\n",
       "      <th>3</th>\n",
       "      <td>94258030</td>\n",
       "      <td>01/01/2017 00:00:14</td>\n",
       "      <td>01/01/2017 00:00:00</td>\n",
       "      <td>840</td>\n",
       "      <td>C115545</td>\n",
       "      <td>PCT112</td>\n",
       "      <td>WPH1</td>\n",
       "      <td>NaN</td>\n",
       "      <td>B3049416314</td>\n",
       "      <td>TMOB</td>\n",
       "      <td>-87.576166</td>\n",
       "      <td>41.772416</td>\n",
       "      <td>4N</td>\n",
       "    </tr>\n",
       "    <tr>\n",
       "      <th>4</th>\n",
       "      <td>94258031</td>\n",
       "      <td>01/01/2017 00:00:16</td>\n",
       "      <td>01/01/2017 00:00:00</td>\n",
       "      <td>757</td>\n",
       "      <td>C500271</td>\n",
       "      <td>PCTS57</td>\n",
       "      <td>RESD</td>\n",
       "      <td>NaN</td>\n",
       "      <td>B3049418095</td>\n",
       "      <td>SGL</td>\n",
       "      <td>NaN</td>\n",
       "      <td>NaN</td>\n",
       "      <td>NaN</td>\n",
       "    </tr>\n",
       "  </tbody>\n",
       "</table>\n",
       "</div>"
      ],
      "text/plain": [
       "         0                    1                    2    3        4       5   \\\n",
       "0  94258027  01/01/2017 00:00:02  01/01/2017 00:00:00  754  C106878   PCT54   \n",
       "1  94258028  01/01/2017 00:00:13  01/01/2017 00:00:00  766  C559895   PCT66   \n",
       "2  94258029  01/01/2017 00:00:14  01/01/2017 00:00:00  835   C75741   PD125   \n",
       "3  94258030  01/01/2017 00:00:14  01/01/2017 00:00:00  840  C115545  PCT112   \n",
       "4  94258031  01/01/2017 00:00:16  01/01/2017 00:00:00  757  C500271  PCTS57   \n",
       "\n",
       "      6    7            8      9           10         11   12  \n",
       "0  WPH1   NaN  B3049404408  ATTMO   -87.65683   +41.7047  3NE  \n",
       "1  BUSN   NaN  B3049415564  AMTCH         NaN        NaN  NaN  \n",
       "2  WPH1   NaN  B3049415923  SPPCS    -87.6515  41.973083    -  \n",
       "3  WPH1   NaN  B3049416314  TMOB   -87.576166  41.772416   4N  \n",
       "4  RESD   NaN  B3049418095  SGL           NaN        NaN  NaN  "
      ]
     },
     "execution_count": 3,
     "metadata": {},
     "output_type": "execute_result"
    }
   ],
   "source": [
    "pd_ani_ali_temp.head()"
   ]
  },
  {
   "cell_type": "code",
   "execution_count": 4,
   "metadata": {},
   "outputs": [],
   "source": [
    "pd_ani_ali_temp.columns = [\"ALINUMBER\",\"ASQDATE\",\"ANSWERDATE\",\"POSITION\",\"PERSID\",\"WORKSTATION\",\"EQUIPMENT\",\"DESCR\",\"ACDID\",\"COMPANYID\",\"XCOORD\",\"YCOORD\",\"DIRECTION\"]"
   ]
  },
  {
   "cell_type": "code",
   "execution_count": 5,
   "metadata": {},
   "outputs": [
    {
     "data": {
      "text/html": [
       "<div>\n",
       "<style scoped>\n",
       "    .dataframe tbody tr th:only-of-type {\n",
       "        vertical-align: middle;\n",
       "    }\n",
       "\n",
       "    .dataframe tbody tr th {\n",
       "        vertical-align: top;\n",
       "    }\n",
       "\n",
       "    .dataframe thead th {\n",
       "        text-align: right;\n",
       "    }\n",
       "</style>\n",
       "<table border=\"1\" class=\"dataframe\">\n",
       "  <thead>\n",
       "    <tr style=\"text-align: right;\">\n",
       "      <th></th>\n",
       "      <th>ALINUMBER</th>\n",
       "      <th>ASQDATE</th>\n",
       "      <th>ANSWERDATE</th>\n",
       "      <th>POSITION</th>\n",
       "      <th>PERSID</th>\n",
       "      <th>WORKSTATION</th>\n",
       "      <th>EQUIPMENT</th>\n",
       "      <th>DESCR</th>\n",
       "      <th>ACDID</th>\n",
       "      <th>COMPANYID</th>\n",
       "      <th>XCOORD</th>\n",
       "      <th>YCOORD</th>\n",
       "      <th>DIRECTION</th>\n",
       "    </tr>\n",
       "  </thead>\n",
       "  <tbody>\n",
       "    <tr>\n",
       "      <th>0</th>\n",
       "      <td>94258027</td>\n",
       "      <td>01/01/2017 00:00:02</td>\n",
       "      <td>01/01/2017 00:00:00</td>\n",
       "      <td>754</td>\n",
       "      <td>C106878</td>\n",
       "      <td>PCT54</td>\n",
       "      <td>WPH1</td>\n",
       "      <td>NaN</td>\n",
       "      <td>B3049404408</td>\n",
       "      <td>ATTMO</td>\n",
       "      <td>-87.65683</td>\n",
       "      <td>+41.7047</td>\n",
       "      <td>3NE</td>\n",
       "    </tr>\n",
       "    <tr>\n",
       "      <th>1</th>\n",
       "      <td>94258028</td>\n",
       "      <td>01/01/2017 00:00:13</td>\n",
       "      <td>01/01/2017 00:00:00</td>\n",
       "      <td>766</td>\n",
       "      <td>C559895</td>\n",
       "      <td>PCT66</td>\n",
       "      <td>BUSN</td>\n",
       "      <td>NaN</td>\n",
       "      <td>B3049415564</td>\n",
       "      <td>AMTCH</td>\n",
       "      <td>NaN</td>\n",
       "      <td>NaN</td>\n",
       "      <td>NaN</td>\n",
       "    </tr>\n",
       "    <tr>\n",
       "      <th>2</th>\n",
       "      <td>94258029</td>\n",
       "      <td>01/01/2017 00:00:14</td>\n",
       "      <td>01/01/2017 00:00:00</td>\n",
       "      <td>835</td>\n",
       "      <td>C75741</td>\n",
       "      <td>PD125</td>\n",
       "      <td>WPH1</td>\n",
       "      <td>NaN</td>\n",
       "      <td>B3049415923</td>\n",
       "      <td>SPPCS</td>\n",
       "      <td>-87.6515</td>\n",
       "      <td>41.973083</td>\n",
       "      <td>-</td>\n",
       "    </tr>\n",
       "    <tr>\n",
       "      <th>3</th>\n",
       "      <td>94258030</td>\n",
       "      <td>01/01/2017 00:00:14</td>\n",
       "      <td>01/01/2017 00:00:00</td>\n",
       "      <td>840</td>\n",
       "      <td>C115545</td>\n",
       "      <td>PCT112</td>\n",
       "      <td>WPH1</td>\n",
       "      <td>NaN</td>\n",
       "      <td>B3049416314</td>\n",
       "      <td>TMOB</td>\n",
       "      <td>-87.576166</td>\n",
       "      <td>41.772416</td>\n",
       "      <td>4N</td>\n",
       "    </tr>\n",
       "    <tr>\n",
       "      <th>4</th>\n",
       "      <td>94258031</td>\n",
       "      <td>01/01/2017 00:00:16</td>\n",
       "      <td>01/01/2017 00:00:00</td>\n",
       "      <td>757</td>\n",
       "      <td>C500271</td>\n",
       "      <td>PCTS57</td>\n",
       "      <td>RESD</td>\n",
       "      <td>NaN</td>\n",
       "      <td>B3049418095</td>\n",
       "      <td>SGL</td>\n",
       "      <td>NaN</td>\n",
       "      <td>NaN</td>\n",
       "      <td>NaN</td>\n",
       "    </tr>\n",
       "  </tbody>\n",
       "</table>\n",
       "</div>"
      ],
      "text/plain": [
       "   ALINUMBER              ASQDATE           ANSWERDATE  POSITION   PERSID  \\\n",
       "0   94258027  01/01/2017 00:00:02  01/01/2017 00:00:00       754  C106878   \n",
       "1   94258028  01/01/2017 00:00:13  01/01/2017 00:00:00       766  C559895   \n",
       "2   94258029  01/01/2017 00:00:14  01/01/2017 00:00:00       835   C75741   \n",
       "3   94258030  01/01/2017 00:00:14  01/01/2017 00:00:00       840  C115545   \n",
       "4   94258031  01/01/2017 00:00:16  01/01/2017 00:00:00       757  C500271   \n",
       "\n",
       "  WORKSTATION EQUIPMENT DESCR        ACDID COMPANYID      XCOORD     YCOORD  \\\n",
       "0       PCT54     WPH1    NaN  B3049404408     ATTMO   -87.65683   +41.7047   \n",
       "1       PCT66     BUSN    NaN  B3049415564     AMTCH         NaN        NaN   \n",
       "2       PD125     WPH1    NaN  B3049415923     SPPCS    -87.6515  41.973083   \n",
       "3      PCT112     WPH1    NaN  B3049416314     TMOB   -87.576166  41.772416   \n",
       "4      PCTS57     RESD    NaN  B3049418095     SGL           NaN        NaN   \n",
       "\n",
       "  DIRECTION  \n",
       "0       3NE  \n",
       "1       NaN  \n",
       "2         -  \n",
       "3        4N  \n",
       "4       NaN  "
      ]
     },
     "execution_count": 5,
     "metadata": {},
     "output_type": "execute_result"
    }
   ],
   "source": [
    "pd_ani_ali_temp.head()"
   ]
  },
  {
   "cell_type": "markdown",
   "metadata": {},
   "source": [
    "chifoia_event_ani_ali_01012017.txt\n",
    "\n",
    "ALINUMBER|ASQDATE                     |ANSWERDATE             |POSITION|PERSID   |WORKSTATION|EQUIPMENT|**DESCR|DESCR**|ACDID              |COMPANYID|XCOORD  |YCOORD  |DIRECTION\n",
    "\n",
    "94258027    |01/01/2017 00:00:02|01/01/2017 00:00:00|754           |C106878|PCT54                |WPH1           |                          |B3049404408|ATTMO         |-87.65683|+41.7047|3NE\n",
    "\n",
    "Here is a duplication in the column names, and might cause some problem.\n",
    "So here I skip the first row and read the data and assign names to them.\n"
   ]
  },
  {
   "cell_type": "code",
   "execution_count": 6,
   "metadata": {},
   "outputs": [],
   "source": [
    "pd_ani_ali = pd.DataFrame()"
   ]
  },
  {
   "cell_type": "code",
   "execution_count": 7,
   "metadata": {},
   "outputs": [
    {
     "data": {
      "text/plain": [
       "['chifoia_event_ani_ali_01012016.txt',\n",
       " 'chifoia_event_ani_ali_01012017.txt',\n",
       " 'chifoia_event_ani_ali_02012016.txt',\n",
       " 'chifoia_event_ani_ali_02012017.txt',\n",
       " 'chifoia_event_ani_ali_03012016.txt',\n",
       " 'chifoia_event_ani_ali_03012017.txt',\n",
       " 'chifoia_event_ani_ali_04012016.txt',\n",
       " 'chifoia_event_ani_ali_04012017.txt',\n",
       " 'chifoia_event_ani_ali_05012016.txt',\n",
       " 'chifoia_event_ani_ali_05012017.txt',\n",
       " 'chifoia_event_ani_ali_06012016.txt',\n",
       " 'chifoia_event_ani_ali_06012017.txt',\n",
       " 'chifoia_event_ani_ali_07012016.txt',\n",
       " 'chifoia_event_ani_ali_07012017.txt',\n",
       " 'chifoia_event_ani_ali_08012016.txt',\n",
       " 'chifoia_event_ani_ali_08012017.txt',\n",
       " 'chifoia_event_ani_ali_09012016.txt',\n",
       " 'chifoia_event_ani_ali_10012016.txt',\n",
       " 'chifoia_event_ani_ali_11012016.txt',\n",
       " 'chifoia_event_ani_ali_12012016.txt']"
      ]
     },
     "execution_count": 7,
     "metadata": {},
     "output_type": "execute_result"
    }
   ],
   "source": [
    "path = './911call/chifoia_event_ani_ali/'\n",
    "files= os.listdir(path)\n",
    "files"
   ]
  },
  {
   "cell_type": "code",
   "execution_count": 8,
   "metadata": {
    "scrolled": false
   },
   "outputs": [
    {
     "name": "stdout",
     "output_type": "stream",
     "text": [
      "(313765, 13)\n",
      "(313765, 13)\n"
     ]
    },
    {
     "name": "stderr",
     "output_type": "stream",
     "text": [
      "D:\\ProgramData\\Anaconda3\\envs\\FinalProject\\lib\\site-packages\\IPython\\core\\interactiveshell.py:2728: DtypeWarning: Columns (10) have mixed types. Specify dtype option on import or set low_memory=False.\n",
      "  interactivity=interactivity, compiler=compiler, result=result)\n"
     ]
    },
    {
     "name": "stdout",
     "output_type": "stream",
     "text": [
      "(292339, 13)\n",
      "(606104, 13)\n",
      "(293540, 13)\n",
      "(899644, 13)\n",
      "(275738, 13)\n",
      "(1175382, 13)\n",
      "(328700, 13)\n",
      "(1504082, 13)\n",
      "(307586, 13)\n",
      "(1811668, 13)\n",
      "(323974, 13)\n",
      "(2135642, 13)\n",
      "(320606, 13)\n",
      "(2456248, 13)\n"
     ]
    },
    {
     "name": "stderr",
     "output_type": "stream",
     "text": [
      "D:\\ProgramData\\Anaconda3\\envs\\FinalProject\\lib\\site-packages\\IPython\\core\\interactiveshell.py:2728: DtypeWarning: Columns (8,9) have mixed types. Specify dtype option on import or set low_memory=False.\n",
      "  interactivity=interactivity, compiler=compiler, result=result)\n"
     ]
    },
    {
     "name": "stdout",
     "output_type": "stream",
     "text": [
      "(367164, 13)\n",
      "(2823412, 13)\n",
      "(344414, 13)\n",
      "(3167826, 13)\n"
     ]
    },
    {
     "name": "stderr",
     "output_type": "stream",
     "text": [
      "D:\\ProgramData\\Anaconda3\\envs\\FinalProject\\lib\\site-packages\\IPython\\core\\interactiveshell.py:2728: DtypeWarning: Columns (10,11,12) have mixed types. Specify dtype option on import or set low_memory=False.\n",
      "  interactivity=interactivity, compiler=compiler, result=result)\n"
     ]
    },
    {
     "name": "stdout",
     "output_type": "stream",
     "text": [
      "(385860, 13)\n",
      "(3553686, 13)\n",
      "(363641, 13)\n",
      "(3917327, 13)\n",
      "(404090, 13)\n",
      "(4321417, 13)\n",
      "(371757, 13)\n",
      "(4693174, 13)\n",
      "(387230, 13)\n",
      "(5080404, 13)\n",
      "(348317, 13)\n",
      "(5428721, 13)\n",
      "(363841, 13)\n",
      "(5792562, 13)\n",
      "(346236, 13)\n",
      "(6138798, 13)\n"
     ]
    },
    {
     "name": "stderr",
     "output_type": "stream",
     "text": [
      "D:\\ProgramData\\Anaconda3\\envs\\FinalProject\\lib\\site-packages\\IPython\\core\\interactiveshell.py:2728: DtypeWarning: Columns (0) have mixed types. Specify dtype option on import or set low_memory=False.\n",
      "  interactivity=interactivity, compiler=compiler, result=result)\n"
     ]
    },
    {
     "name": "stdout",
     "output_type": "stream",
     "text": [
      "(315205, 13)\n",
      "(6454003, 13)\n",
      "(297905, 13)\n",
      "(6751908, 13)\n"
     ]
    }
   ],
   "source": [
    "for file in files:\n",
    "    pd_ani_ali_temp = pd.read_csv(path+file,sep=\"|\",skiprows=1,header=None)\n",
    "    pd_ani_ali_temp.columns = [\"ALINUMBER\",\"ASQDATE\",\"ANSWERDATE\",\"POSITION\",\"PERSID\",\"WORKSTATION\",\"EQUIPMENT\",\"DESCR\",\"ACDID\",\"COMPANYID\",\"XCOORD\",\"YCOORD\",\"DIRECTION\"]\n",
    "    print(pd_ani_ali_temp.shape)\n",
    "    pd_ani_ali = pd.concat([pd_ani_ali,pd_ani_ali_temp])\n",
    "    print(pd_ani_ali.shape)"
   ]
  },
  {
   "cell_type": "code",
   "execution_count": 9,
   "metadata": {
    "scrolled": true
   },
   "outputs": [
    {
     "data": {
      "text/html": [
       "<div>\n",
       "<style scoped>\n",
       "    .dataframe tbody tr th:only-of-type {\n",
       "        vertical-align: middle;\n",
       "    }\n",
       "\n",
       "    .dataframe tbody tr th {\n",
       "        vertical-align: top;\n",
       "    }\n",
       "\n",
       "    .dataframe thead th {\n",
       "        text-align: right;\n",
       "    }\n",
       "</style>\n",
       "<table border=\"1\" class=\"dataframe\">\n",
       "  <thead>\n",
       "    <tr style=\"text-align: right;\">\n",
       "      <th></th>\n",
       "      <th>ALINUMBER</th>\n",
       "      <th>ASQDATE</th>\n",
       "      <th>ANSWERDATE</th>\n",
       "      <th>POSITION</th>\n",
       "      <th>PERSID</th>\n",
       "      <th>WORKSTATION</th>\n",
       "      <th>EQUIPMENT</th>\n",
       "      <th>DESCR</th>\n",
       "      <th>ACDID</th>\n",
       "      <th>COMPANYID</th>\n",
       "      <th>XCOORD</th>\n",
       "      <th>YCOORD</th>\n",
       "      <th>DIRECTION</th>\n",
       "    </tr>\n",
       "  </thead>\n",
       "  <tbody>\n",
       "    <tr>\n",
       "      <th>0</th>\n",
       "      <td>89375091</td>\n",
       "      <td>01/01/2016 00:00:04</td>\n",
       "      <td>01/01/2016 00:00:00</td>\n",
       "      <td>732.0</td>\n",
       "      <td>C549511</td>\n",
       "      <td>PD32</td>\n",
       "      <td>WPH2</td>\n",
       "      <td>NaN</td>\n",
       "      <td>NaN</td>\n",
       "      <td>NaN</td>\n",
       "      <td>NaN</td>\n",
       "      <td>NaN</td>\n",
       "      <td>NaN</td>\n",
       "    </tr>\n",
       "    <tr>\n",
       "      <th>1</th>\n",
       "      <td>89375092</td>\n",
       "      <td>01/01/2016 00:00:09</td>\n",
       "      <td>01/01/2016 00:00:00</td>\n",
       "      <td>725.0</td>\n",
       "      <td>C606055</td>\n",
       "      <td>PCT25</td>\n",
       "      <td>WPH1</td>\n",
       "      <td>NaN</td>\n",
       "      <td>NaN</td>\n",
       "      <td>NaN</td>\n",
       "      <td>NaN</td>\n",
       "      <td>NaN</td>\n",
       "      <td>NaN</td>\n",
       "    </tr>\n",
       "    <tr>\n",
       "      <th>2</th>\n",
       "      <td>89375093</td>\n",
       "      <td>01/01/2016 00:00:13</td>\n",
       "      <td>01/01/2016 00:00:00</td>\n",
       "      <td>748.0</td>\n",
       "      <td>C100965</td>\n",
       "      <td>PCT48</td>\n",
       "      <td>WPH1</td>\n",
       "      <td>NaN</td>\n",
       "      <td>NaN</td>\n",
       "      <td>NaN</td>\n",
       "      <td>NaN</td>\n",
       "      <td>NaN</td>\n",
       "      <td>NaN</td>\n",
       "    </tr>\n",
       "    <tr>\n",
       "      <th>3</th>\n",
       "      <td>89375094</td>\n",
       "      <td>01/01/2016 00:00:18</td>\n",
       "      <td>01/01/2016 00:00:00</td>\n",
       "      <td>749.0</td>\n",
       "      <td>C100963</td>\n",
       "      <td>PCT49</td>\n",
       "      <td>WPH1</td>\n",
       "      <td>NaN</td>\n",
       "      <td>NaN</td>\n",
       "      <td>NaN</td>\n",
       "      <td>NaN</td>\n",
       "      <td>NaN</td>\n",
       "      <td>NaN</td>\n",
       "    </tr>\n",
       "    <tr>\n",
       "      <th>4</th>\n",
       "      <td>89375095</td>\n",
       "      <td>01/01/2016 00:00:19</td>\n",
       "      <td>01/01/2016 00:00:00</td>\n",
       "      <td>721.0</td>\n",
       "      <td>A99592</td>\n",
       "      <td>PADM21</td>\n",
       "      <td>CNTX</td>\n",
       "      <td>NaN</td>\n",
       "      <td>NaN</td>\n",
       "      <td>NaN</td>\n",
       "      <td>NaN</td>\n",
       "      <td>NaN</td>\n",
       "      <td>NaN</td>\n",
       "    </tr>\n",
       "  </tbody>\n",
       "</table>\n",
       "</div>"
      ],
      "text/plain": [
       "  ALINUMBER              ASQDATE           ANSWERDATE  POSITION   PERSID  \\\n",
       "0  89375091  01/01/2016 00:00:04  01/01/2016 00:00:00     732.0  C549511   \n",
       "1  89375092  01/01/2016 00:00:09  01/01/2016 00:00:00     725.0  C606055   \n",
       "2  89375093  01/01/2016 00:00:13  01/01/2016 00:00:00     748.0  C100965   \n",
       "3  89375094  01/01/2016 00:00:18  01/01/2016 00:00:00     749.0  C100963   \n",
       "4  89375095  01/01/2016 00:00:19  01/01/2016 00:00:00     721.0   A99592   \n",
       "\n",
       "  WORKSTATION EQUIPMENT DESCR ACDID COMPANYID XCOORD YCOORD DIRECTION  \n",
       "0        PD32     WPH2    NaN   NaN       NaN    NaN    NaN       NaN  \n",
       "1       PCT25     WPH1    NaN   NaN       NaN    NaN    NaN       NaN  \n",
       "2       PCT48     WPH1    NaN   NaN       NaN    NaN    NaN       NaN  \n",
       "3       PCT49     WPH1    NaN   NaN       NaN    NaN    NaN       NaN  \n",
       "4      PADM21     CNTX    NaN   NaN       NaN    NaN    NaN       NaN  "
      ]
     },
     "execution_count": 9,
     "metadata": {},
     "output_type": "execute_result"
    }
   ],
   "source": [
    "pd_ani_ali.head()"
   ]
  },
  {
   "cell_type": "code",
   "execution_count": 10,
   "metadata": {},
   "outputs": [],
   "source": [
    "pd_ani_ali.XCOORD = pd.to_numeric(pd_ani_ali.XCOORD, errors='coerce')\n",
    "pd_ani_ali.YCOORD = pd.to_numeric(pd_ani_ali.YCOORD, errors='coerce')\n",
    "pd_ani_ali.POSITION = pd.to_numeric(pd_ani_ali.POSITION, errors='coerce')"
   ]
  },
  {
   "cell_type": "code",
   "execution_count": 11,
   "metadata": {},
   "outputs": [
    {
     "data": {
      "text/plain": [
       "(6751908, 13)"
      ]
     },
     "execution_count": 11,
     "metadata": {},
     "output_type": "execute_result"
    }
   ],
   "source": [
    "pd_ani_ali.shape"
   ]
  },
  {
   "cell_type": "code",
   "execution_count": 14,
   "metadata": {},
   "outputs": [
    {
     "data": {
      "text/plain": [
       "0"
      ]
     },
     "execution_count": 14,
     "metadata": {},
     "output_type": "execute_result"
    }
   ],
   "source": [
    "sum(pd_ani_ali.ASQDATE == \"ATTMO\")"
   ]
  },
  {
   "cell_type": "code",
   "execution_count": 13,
   "metadata": {},
   "outputs": [],
   "source": [
    "pd_ani_ali = pd_ani_ali.replace(['ALI NO', 'ATTMO'],np.nan)\n"
   ]
  },
  {
   "cell_type": "code",
   "execution_count": 15,
   "metadata": {},
   "outputs": [
    {
     "data": {
      "text/plain": [
       "(6751908, 13)"
      ]
     },
     "execution_count": 15,
     "metadata": {},
     "output_type": "execute_result"
    }
   ],
   "source": [
    "pd_ani_ali.shape"
   ]
  },
  {
   "cell_type": "code",
   "execution_count": 16,
   "metadata": {},
   "outputs": [
    {
     "data": {
      "text/html": [
       "<div>\n",
       "<style scoped>\n",
       "    .dataframe tbody tr th:only-of-type {\n",
       "        vertical-align: middle;\n",
       "    }\n",
       "\n",
       "    .dataframe tbody tr th {\n",
       "        vertical-align: top;\n",
       "    }\n",
       "\n",
       "    .dataframe thead th {\n",
       "        text-align: right;\n",
       "    }\n",
       "</style>\n",
       "<table border=\"1\" class=\"dataframe\">\n",
       "  <thead>\n",
       "    <tr style=\"text-align: right;\">\n",
       "      <th></th>\n",
       "      <th>ALINUMBER</th>\n",
       "      <th>ASQDATE</th>\n",
       "      <th>ANSWERDATE</th>\n",
       "      <th>POSITION</th>\n",
       "      <th>PERSID</th>\n",
       "      <th>WORKSTATION</th>\n",
       "      <th>EQUIPMENT</th>\n",
       "      <th>DESCR</th>\n",
       "      <th>ACDID</th>\n",
       "      <th>COMPANYID</th>\n",
       "      <th>XCOORD</th>\n",
       "      <th>YCOORD</th>\n",
       "      <th>DIRECTION</th>\n",
       "    </tr>\n",
       "  </thead>\n",
       "  <tbody>\n",
       "    <tr>\n",
       "      <th>0</th>\n",
       "      <td>89375091</td>\n",
       "      <td>01/01/2016 00:00:04</td>\n",
       "      <td>01/01/2016 00:00:00</td>\n",
       "      <td>732.0</td>\n",
       "      <td>C549511</td>\n",
       "      <td>PD32</td>\n",
       "      <td>WPH2</td>\n",
       "      <td>NaN</td>\n",
       "      <td>NaN</td>\n",
       "      <td>NaN</td>\n",
       "      <td>NaN</td>\n",
       "      <td>NaN</td>\n",
       "      <td>NaN</td>\n",
       "    </tr>\n",
       "    <tr>\n",
       "      <th>1</th>\n",
       "      <td>89375092</td>\n",
       "      <td>01/01/2016 00:00:09</td>\n",
       "      <td>01/01/2016 00:00:00</td>\n",
       "      <td>725.0</td>\n",
       "      <td>C606055</td>\n",
       "      <td>PCT25</td>\n",
       "      <td>WPH1</td>\n",
       "      <td>NaN</td>\n",
       "      <td>NaN</td>\n",
       "      <td>NaN</td>\n",
       "      <td>NaN</td>\n",
       "      <td>NaN</td>\n",
       "      <td>NaN</td>\n",
       "    </tr>\n",
       "    <tr>\n",
       "      <th>2</th>\n",
       "      <td>89375093</td>\n",
       "      <td>01/01/2016 00:00:13</td>\n",
       "      <td>01/01/2016 00:00:00</td>\n",
       "      <td>748.0</td>\n",
       "      <td>C100965</td>\n",
       "      <td>PCT48</td>\n",
       "      <td>WPH1</td>\n",
       "      <td>NaN</td>\n",
       "      <td>NaN</td>\n",
       "      <td>NaN</td>\n",
       "      <td>NaN</td>\n",
       "      <td>NaN</td>\n",
       "      <td>NaN</td>\n",
       "    </tr>\n",
       "    <tr>\n",
       "      <th>3</th>\n",
       "      <td>89375094</td>\n",
       "      <td>01/01/2016 00:00:18</td>\n",
       "      <td>01/01/2016 00:00:00</td>\n",
       "      <td>749.0</td>\n",
       "      <td>C100963</td>\n",
       "      <td>PCT49</td>\n",
       "      <td>WPH1</td>\n",
       "      <td>NaN</td>\n",
       "      <td>NaN</td>\n",
       "      <td>NaN</td>\n",
       "      <td>NaN</td>\n",
       "      <td>NaN</td>\n",
       "      <td>NaN</td>\n",
       "    </tr>\n",
       "    <tr>\n",
       "      <th>4</th>\n",
       "      <td>89375095</td>\n",
       "      <td>01/01/2016 00:00:19</td>\n",
       "      <td>01/01/2016 00:00:00</td>\n",
       "      <td>721.0</td>\n",
       "      <td>A99592</td>\n",
       "      <td>PADM21</td>\n",
       "      <td>CNTX</td>\n",
       "      <td>NaN</td>\n",
       "      <td>NaN</td>\n",
       "      <td>NaN</td>\n",
       "      <td>NaN</td>\n",
       "      <td>NaN</td>\n",
       "      <td>NaN</td>\n",
       "    </tr>\n",
       "  </tbody>\n",
       "</table>\n",
       "</div>"
      ],
      "text/plain": [
       "  ALINUMBER              ASQDATE           ANSWERDATE  POSITION   PERSID  \\\n",
       "0  89375091  01/01/2016 00:00:04  01/01/2016 00:00:00     732.0  C549511   \n",
       "1  89375092  01/01/2016 00:00:09  01/01/2016 00:00:00     725.0  C606055   \n",
       "2  89375093  01/01/2016 00:00:13  01/01/2016 00:00:00     748.0  C100965   \n",
       "3  89375094  01/01/2016 00:00:18  01/01/2016 00:00:00     749.0  C100963   \n",
       "4  89375095  01/01/2016 00:00:19  01/01/2016 00:00:00     721.0   A99592   \n",
       "\n",
       "  WORKSTATION EQUIPMENT DESCR ACDID COMPANYID  XCOORD  YCOORD DIRECTION  \n",
       "0        PD32     WPH2    NaN   NaN       NaN     NaN     NaN       NaN  \n",
       "1       PCT25     WPH1    NaN   NaN       NaN     NaN     NaN       NaN  \n",
       "2       PCT48     WPH1    NaN   NaN       NaN     NaN     NaN       NaN  \n",
       "3       PCT49     WPH1    NaN   NaN       NaN     NaN     NaN       NaN  \n",
       "4      PADM21     CNTX    NaN   NaN       NaN     NaN     NaN       NaN  "
      ]
     },
     "execution_count": 16,
     "metadata": {},
     "output_type": "execute_result"
    }
   ],
   "source": [
    "pd_ani_ali.head()"
   ]
  },
  {
   "cell_type": "code",
   "execution_count": 17,
   "metadata": {},
   "outputs": [],
   "source": [
    "pd_ani_ali.to_csv('./911call/chifoia_event_ani_ali.csv')"
   ]
  },
  {
   "cell_type": "markdown",
   "metadata": {},
   "source": [
    "To csv file. **DONE!**"
   ]
  },
  {
   "cell_type": "code",
   "execution_count": 11,
   "metadata": {
    "scrolled": false
   },
   "outputs": [
    {
     "name": "stdout",
     "output_type": "stream",
     "text": [
      "ALINUMBER\n",
      "[93898325 93898326 93898328 ..., 94258022 94258024 94258025]\n",
      "\n",
      "\n",
      "\n",
      "ASQDATE\n",
      "['12/01/2016 00:00:19' '12/01/2016 00:00:21' '12/01/2016 00:00:45' ...,\n",
      " '12/31/2016 23:59:24' '12/31/2016 23:59:38' '12/31/2016 23:59:51']\n",
      "\n",
      "\n",
      "\n",
      "ANSWERDATE\n",
      "['12/01/2016 00:00:00' '12/01/2016 00:01:00' '12/01/2016 00:02:00' ...,\n",
      " '12/31/2016 23:57:00' '12/31/2016 23:58:00' '12/31/2016 23:59:00']\n",
      "\n",
      "\n",
      "\n",
      "POSITION\n",
      "[765 727 768 734 711 746 737 725 738 756 724 739 723 755 733 831 708 736\n",
      " 721 732 707 745 747 726 833 840 749 748 714 758 710 757 720 752 722 717\n",
      " 753 764 767 754 735 712 744 713 560 760 528 761 834 538 766 529 527 537\n",
      " 568 541 795 515 544 539 518 513 543 536 798 799 792 510 555 530 802 512\n",
      " 506 509 507 533 794 796 517 505 836 835 838 793 812]\n",
      "\n",
      "\n",
      "\n",
      "PERSID\n",
      "['C99440' 'C560948' 'C539210' 'C100954' 'C559897' 'C107757' 'C116759'\n",
      " 'C115080' 'C108844' 'C108848' 'C103127' 'C551155' 'C560942' 'C108840'\n",
      " 'C604266' 'C115545' 'A300816' 'C33805' 'A99592' 'C117224' 'A273619'\n",
      " 'C118261' 'C559895' 'C559902' 'C27971' 'C541748' 'C100912' 'C100964'\n",
      " 'C305083' 'C31084' 'C108852' 'C112815' 'A99593' 'C117351' 'C117194'\n",
      " 'C103688' 'C106923' 'C552948' 'C555744' 'C535563' 'A541555' 'C307502'\n",
      " 'C300211' 'C541741' 'C558227' 'A516555' 'C308578' 'C553184' 'C541234'\n",
      " 'C307552' 'C554491' 'C307551' 'C357395' 'C301199' 'C550925' 'C550924'\n",
      " 'C541554' 'C99593' 'C500327' 'A548443' 'C304051' 'C550923' 'C307554'\n",
      " 'C400740' 'C108849' 'C108210' 'C539205' 'C555740' 'C553188' 'C307557'\n",
      " 'C110029' 'C113752' 'C192159' 'C307485' 'RT118617' 'A557520' 'C118083'\n",
      " 'C118081' 'C100957' 'C606055' 'C100962' 'C118086' 'C559904' 'C554490'\n",
      " 'A557524' 'C560944' 'C108833' 'C113102' 'C559903' 'C560943' 'C116762'\n",
      " 'C118262' 'C118527' 'C117446' 'C118260' 'C521392' 'C604221' 'C114912'\n",
      " 'C543468' 'A100965' 'C558503' 'C100963' 'C606047' 'C307497' 'C306528'\n",
      " 'C516555' 'C108836' 'RT119067' 'C118616' 'C8782' 'C109494' 'C118082'\n",
      " 'C606057' 'A604266' 'C75741' 'C550926' 'C112734' 'C117225' 'C558222'\n",
      " 'C113109' 'D113105' 'C98606' 'C554489' 'C117193' 'C551154' 'C305084'\n",
      " 'C118073' 'C305260' 'C551151' 'C303912' 'C553191' 'C117198' 'C303571'\n",
      " 'C305081' 'C557039' 'C522288' 'C307488' 'C557395' 'C306530' 'C541747'\n",
      " 'C558501' 'A307556' 'C118615' 'C839505' 'C557041' 'C550403' 'C118067'\n",
      " 'C553190' 'C553187' 'A555740' 'C100956' 'C557520' 'C118085' 'C602883'\n",
      " 'C118068' 'C113750' 'C606052' 'C103707' 'C118076' 'C113105' 'A554490'\n",
      " 'C559905' 'C118346' 'C110185' 'C307293' 'C307292' 'A7340' 'C307830'\n",
      " 'C555743' 'D307292' 'RT118596' 'C554925' 'C560946' 'C118845' 'C118341'\n",
      " 'C100965' 'C306526' 'C99336' 'A558504' 'C118295' 'A604267' 'C307856'\n",
      " 'C528285' 'C118070' 'C308179' 'C554928' 'C382563' 'C093099' 'C118075'\n",
      " 'C305087' 'C117397' 'C115549' 'C113108' 'C117195' 'C543234' 'C104403'\n",
      " 'C557460' 'C606053' 'C7661' 'C108851' 'A559903' 'C118069' 'C108853'\n",
      " 'C100995' 'C115561' 'C99339' 'C308187' 'C555746' 'A535563' 'C308163'\n",
      " 'RT25012' 'C118354' 'C554926' 'C476761' 'C301623' 'C531813' 'C308567'\n",
      " 'C113749' 'C112785' 'C1928' 'C118074' 'C117202' 'C113103' 'C558500'\n",
      " 'C306525' 'C306538' 'C535999' 'C525884' 'RT119061' 'D306525' 'C106928'\n",
      " 'C22412' 'C543244' 'C99335' 'C113107' 'C558224' 'C555734' 'C113753'\n",
      " 'C303981' 'RT118601' 'RT118351' 'C12324' 'RT118839' 'C106919' 'A110029'\n",
      " 'C548443' 'C98603' 'C3241' 'C559901' 'C112780' 'C555107' 'C559898'\n",
      " 'C306523' 'RT118836' 'C103649' 'C541236' 'C7340' 'C539716' 'A559901'\n",
      " 'C307499' 'C557525' 'C108209' 'D539716' 'RT96929' 'A502909' 'A106923'\n",
      " 'A108848' 'C108854' 'C115562' 'RT110856' 'D33050' 'ZACH' 'C606054' 'C4667'\n",
      " 'C550698' 'C108845' 'D113753' 'A100912' 'C385978' 'C110017' 'C308186'\n",
      " 'C303909' 'D103649' 'RT118294' 'RT118350' 'D308186' 'C117201' 'C550700'\n",
      " 'D550698' 'A558224' 'RT13103' 'RT42688' 'A555734' 'C549511' 'RT119055'\n",
      " 'RT108567' 'C96077' 'C99340' 'C551156' 'A554491' 'C606049' 'C108212'\n",
      " 'C557519' 'C541737' 'C550398' 'C307491' 'RT118825' 'D117198' 'C604267'\n",
      " 'C300971' 'D300971' 'C103661' 'D550398' 'D541737' 'C707378' 'C119361'\n",
      " 'C119358' 'D303571' 'RT47940' 'C33050' 'A110185' 'C119363' 'C99432'\n",
      " 'RT119056' 'A100995' 'C502909' 'C541241' 'D551154' 'A541554' 'C106921'\n",
      " 'C307498' 'RT118619' 'D307491' 'D4667' 'D106921' 'RT107619' 'A7661'\n",
      " 'RT35169' 'A560944' 'A549513' 'D75741' 'A500271' 'C555737' 'C558226'\n",
      " 'C541555' 'C106922' 'C500271' 'C555736' 'RT91724' 'C549513' 'A107757'\n",
      " 'C151467' 'C543243' 'RT23712' 'C304048' 'C308563' 'RT110480' 'C554737'\n",
      " 'C552536' 'C307504' 'C304078' 'C99337' 'C548561' 'C601149' 'C112783'\n",
      " 'C541235' 'C99341' 'C551153' 'C308575' 'C539718' 'C393941' 'A300211'\n",
      " 'C558502' 'RT108548' 'RT119068' 'DT113753' 'RT14593' 'C549506' 'C308562'\n",
      " 'D110017' 'C555742' 'A550925' 'D106928' 'A100957' 'C543471' 'A606055'\n",
      " 'A560946' 'C541238' 'D306523' 'A606057' 'A558501' 'A103649' 'DT108210'\n",
      " 'D553634' 'A550700' 'D557527' 'RT118291' 'C304109' 'C306727' 'C306537'\n",
      " 'C539223' 'C100960' 'RT118823' 'C306725' 'C305297' 'D99432' 'D305297'\n",
      " 'RT102765' 'C307503' 'C541734' 'C300816' 'C118621' 'C307556' 'C118600'\n",
      " 'C118606' 'RT37923' 'C118618' 'D99341' 'C279' 'C118846' 'C118343'\n",
      " 'C554734' 'RT118607' 'C105405' 'C115079' 'D113749' 'C103674' 'C118352'\n",
      " 'D99336' 'C108843' 'C115543' 'D525884' 'C118614' 'C118345' 'A558500'\n",
      " 'C115076' 'C103874' 'C118349' 'C61984' 'C118595' 'C304052' 'C306536'\n",
      " 'C304116' 'P18380' 'P111530' 'C106878' 'D117193' 'C553512' 'C106936']\n",
      "\n",
      "\n",
      "\n",
      "WORKSTATION\n",
      "['PCT65' 'PCT27' 'PCT68' 'PCTS34' 'PCT11' 'PCT46' 'PCT37' 'PCT25' 'PCT38'\n",
      " 'PCT56' 'PCTS24' 'PCT39' 'PCT23' 'PCT55' 'PCT33' 'PCT113' 'PD08' 'PCT36'\n",
      " 'PADM21' 'PD32' 'PADM07' 'PCT45' 'PCT47' 'PCT26' 'PD123' 'PCT112' 'PCT49'\n",
      " 'PCT48' 'PCT14' 'PCT58' 'PCT10' 'PCTS57' 'PADM20' 'PD52' 'PCT22' 'PDS17'\n",
      " 'PD53' 'PCT64' 'PCT67' 'PCT54' 'PCT35' 'PCT12' 'PCT44' 'PCT13' 'AF60'\n",
      " 'PD60' 'ACT28' 'PD61' 'PD124' 'NE38' 'PCT66' 'ACT29' 'AZ70' 'ACW37' 'AF68'\n",
      " 'AZ41' 'PDT95' 'ACT15' 'AZ44' 'ACW39' 'ACT18' 'ACT13' 'AZ43' 'NE36'\n",
      " 'PDT98' 'PDT99' 'PDT92' 'NE10' 'AZ55' 'ACT30' 'PDT102' 'NE12' 'AZ46'\n",
      " 'NE09' 'ACW52' 'ACT33' 'PDT94' 'PDT96' 'ACT17' 'AZ50' 'PD126' 'PD125'\n",
      " 'FDT116' 'PDT93' 'FDT104']\n",
      "\n",
      "\n",
      "\n",
      "EQUIPMENT\n",
      "['WPH1 ' 'WPH2 ' 'RESD ' 'BUSN ' 'CNTX ' nan 'PAY$ ' 'N/A  ' 'PBXb '\n",
      " 'VOIP ' 'COIN ' 'BSNX ']\n",
      "\n",
      "\n",
      "\n",
      "DESCR\n",
      "[nan 'RECORD NOT FOUND']\n",
      "\n",
      "\n",
      "\n",
      "ACDID\n",
      "['A0370981611' 'A0370984033' 'A0371007658' ..., 'B3049366798' 'B3049380126'\n",
      " 'B3049393986']\n",
      "\n",
      "\n",
      "\n",
      "COMPANYID\n",
      "['TMOB ' 'SPPCS' 'ATTMO' 'FAIL ' 'MCLDU' 'VZW  ' 'AMTCH' nan 'ATT  '\n",
      " 'AOINC' 'NGT  ' 'RCN  ' 'ATTIS' 'CMCST' 'CIMCO' 'SGL  ' 'NEX07' 'TCG  '\n",
      " 'MCI  ' 'CONX ' 'GBQ  ' 'XOXO ' 'EGHT ' 'BAND ' 'CBEYO' 'SXMCV' 'REDSK'\n",
      " 'TWCOM' 'FOCAL' 'VNAGE' 'PUA  ' 'LVL3 ' 'CTLQV' 'CMNI ' 'CALLT' 'SPKEZ'\n",
      " 'YMX00' 'PSABN' 'ONSTR' 'PLNW ' 'SCINC' 'OOMA ' 'VNBS ' 'ALC  ' 'NWOH '\n",
      " 'VZT  ' 'EQUIV' 'TNLV ' 'PSMCI' 'VMCI ' 'CCAS ' 'ANPI ' 'BLUIP' 'Selec'\n",
      " 'HATA ' 'ALTI ' 'PNGT ' 'NTRDO' 'FROMI' 'TLKNV' 'GSAIO' 'SSNET' 'NTRS '\n",
      " 'ACNDP' 'VNICR' 'CFLY ' 'CYPRS' 'TVOIP' 'USLEC' '5LINX' 'RTCCS' 'LTB  '\n",
      " 'TRDO ' 'TCS  ' 'HURN ' 'ETCML' 'LECMI' 'AICIL']\n",
      "\n",
      "\n",
      "\n",
      "XCOORD\n",
      "['-87.624451' '-87.575833' '-087.71836' ..., '-087.72876' '-087.82015'\n",
      " '-087.70484']\n",
      "\n",
      "\n",
      "\n",
      "YCOORD\n",
      "['41.755672' '41.772333' '+041.89386' ..., '+041.71375' '+041.86338'\n",
      " '+041.97614']\n",
      "\n",
      "\n",
      "\n",
      "DIRECTION\n",
      "['3N' '4SE' nan '3SW' 'W' '3SE' '3NE' '3NW' '-' '3W' '3E' 'SW' 'OMNI' '4SW'\n",
      " '3S' 'N' 'SE' '2SE' 'E' '6SE' '6N' '6W' 'NW' '2SW' '1N' '3OMN' '4N' '1'\n",
      " 'S' '12' '11' 'PLAC' '8' 'NE' '2OMN' '3' 'Luth' '6SW' '2N' '4S' '6NE'\n",
      " '2NE' '4NW' 'AVE' 'Ave' '9' '26TH' '3SSE' '4W' '2W' 'STRE' 'AVE-' 'Sect'\n",
      " 'WALL' 'Madi' 'ST' '33S' '-3N' '3XX' '2' 'St' 'LARA' 'AV' '&' 'BLVD'\n",
      " 'ROOS' '5' '13' 'RD' '54th' 'FORE' 'NORT' 'MAPL' 'Fill' 'MICH' 'RIVE'\n",
      " '-SE' '-NE' 'Pl' 'PARK' '4' 'Dr' '1-' 'MAWR' 'IN' 'Brad' 'SECT' '3NNE'\n",
      " 'DR' 'Rd' 'Nort' '-N' 'HOWA' '3ALL' 'AUST']\n",
      "\n",
      "\n",
      "\n"
     ]
    }
   ],
   "source": [
    "for col in pd_ani_ali_temp.columns.tolist():\n",
    "    print(col)\n",
    "    print( pd_ani_ali_temp[col].unique())\n",
    "    print('\\n\\n')"
   ]
  },
  {
   "cell_type": "code",
   "execution_count": 12,
   "metadata": {},
   "outputs": [
    {
     "data": {
      "text/plain": [
       "Index(['ALINUMBER', 'ASQDATE', 'ANSWERDATE', 'POSITION', 'PERSID',\n",
       "       'WORKSTATION', 'EQUIPMENT', 'DESCR', 'ACDID', 'COMPANYID', 'XCOORD',\n",
       "       'YCOORD', 'DIRECTION'],\n",
       "      dtype='object')"
      ]
     },
     "execution_count": 12,
     "metadata": {},
     "output_type": "execute_result"
    }
   ],
   "source": [
    "pd_ani_ali_temp.columns"
   ]
  },
  {
   "cell_type": "code",
   "execution_count": 13,
   "metadata": {
    "scrolled": true
   },
   "outputs": [
    {
     "data": {
      "text/plain": [
       "['ALINUMBER',\n",
       " 'ASQDATE',\n",
       " 'ANSWERDATE',\n",
       " 'POSITION',\n",
       " 'PERSID',\n",
       " 'WORKSTATION',\n",
       " 'EQUIPMENT',\n",
       " 'DESCR',\n",
       " 'ACDID',\n",
       " 'COMPANYID',\n",
       " 'XCOORD',\n",
       " 'YCOORD',\n",
       " 'DIRECTION']"
      ]
     },
     "execution_count": 13,
     "metadata": {},
     "output_type": "execute_result"
    }
   ],
   "source": [
    "pd_ani_ali_temp.columns.tolist()"
   ]
  },
  {
   "cell_type": "code",
   "execution_count": 14,
   "metadata": {},
   "outputs": [],
   "source": [
    "pd_ani_ali_temp.to_csv('./911call/chifoia_event_ani_ali1.csv')\n"
   ]
  }
 ],
 "metadata": {
  "kernelspec": {
   "display_name": "Python 3",
   "language": "python",
   "name": "python3"
  },
  "language_info": {
   "codemirror_mode": {
    "name": "ipython",
    "version": 3
   },
   "file_extension": ".py",
   "mimetype": "text/x-python",
   "name": "python",
   "nbconvert_exporter": "python",
   "pygments_lexer": "ipython3",
   "version": "3.5.5"
  }
 },
 "nbformat": 4,
 "nbformat_minor": 2
}
